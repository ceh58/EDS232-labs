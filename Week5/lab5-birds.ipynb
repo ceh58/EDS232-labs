{
 "cells": [
  {
   "cell_type": "markdown",
   "metadata": {},
   "source": [
    "# Lab 5: Species Distribution Modeling with Bagging \n",
    "Climate change and deforestation are accelerating ecosystem degradation, pushing animal species toward the brink of extinction. Understanding the distribution of animals and the factors that influence their ability to thrive in different environments is critical for conservation efforts. By studying these relationships, biological conservationists can develop informed strategies to protect endangered species and maintain biodiversity across diverse ecosystems.\n",
    "\n",
    "Species are defined by their behavioral, physiological, and ecological attributes, which shape their roles in ecosystems. In turn, ecosystems and their functions are deeply influenced by the species that inhabit them. This reciprocal relationship makes evaluating species' functional diversity and distributions essential for research in biogeography, community ecology, macroevolution, and conservation. Functional diversity is determined by traits such as diet, foraging strata, trophic level, activity cycle, litter size, generation length, habitat breadth, and body mass. These traits influence an animal’s ability to survive and adapt to different climates, playing a crucial role in ecosystem stability.\n",
    "\n",
    "In this lab, we will explore the connections between animal behaviors, functional traits, and species distributions across different climates."
   ]
  },
  {
   "cell_type": "code",
   "execution_count": 1,
   "metadata": {
    "tags": []
   },
   "outputs": [],
   "source": [
    "import pandas as pd\n",
    "import numpy as np\n",
    "import matplotlib.pyplot as plt\n",
    "import seaborn as sns\n",
    "from sklearn.ensemble import BaggingClassifier\n",
    "from sklearn.model_selection import train_test_split\n",
    "from sklearn.metrics import accuracy_score, roc_curve, auc, roc_auc_score\n",
    "from sklearn.preprocessing import StandardScaler, LabelEncoder\n",
    "from sklearn.inspection import permutation_importance\n",
    "from sklearn.utils import resample, shuffle\n",
    "from sklearn.impute import SimpleImputer"
   ]
  },
  {
   "cell_type": "markdown",
   "metadata": {},
   "source": [
    "### Step 1: Standardizing column names\n",
    "\n",
    "The dataset contains several columns that describe different aspects of bird diets. These column names currently include spaces, colons (:), and special characters, which can make them difficult to work with in code.\n",
    "\n",
    "Load the dataset (BirdTraitData.csv) into a Pandas DataFrame.\n",
    "\n",
    "The 7 column names that start with \"Diet:\" should be renamed to simpler version starting with `Diet_` in a way that conforms with this list of key variables:\n",
    "\n",
    "`AdultBodyMass`, `DietBreadth`, `Diet_Invertebrates`, `Diet_Vertebrates`,`Diet_Fruits`, `Diet_Flowers`, `Diet_Seeds`, `Diet_Plants`, `Diet_Other`, `TrophicLevel`,`ActivityCycle`, `ForagingStratum`, `MigratoryStatus`,`IncubationTime`, `ClutchSize`, `EggLength`, `EggWidth`,`EggMass`, `NestingHabit`,`MaxLongevity`, `Subarid`\n",
    "\n",
    "Then select only that list of 21 key variables. **Print the head of your dataframe.** "
   ]
  },
  {
   "cell_type": "code",
   "execution_count": 2,
   "metadata": {
    "tags": []
   },
   "outputs": [
    {
     "data": {
      "text/plain": [
       "Index(['Order', 'Family', 'Genus', 'Species', 'Authority', 'CommonName',\n",
       "       'AdultBodyMass', 'DietBreadth', 'Diet: invertebrates',\n",
       "       'Diet: vertebrates', 'Diet: fruits', 'Diet: flower/nectar/pollen/gums',\n",
       "       'Diet: seeds', 'Diet: other plant materials',\n",
       "       'Diet: scavenge; garbage; carrion; offal; carcasses', 'TrophicLevel',\n",
       "       'ActivityCycle', 'ForagingStratum', 'MigratoryStatus', 'IncubationTime',\n",
       "       'ClutchSize', 'EggLength', 'EggWidth', 'EggMass', 'NestingHabit',\n",
       "       'MaxLongevity', 'Dry', 'Humid', 'Montane', 'Subarid', 'Subhumid',\n",
       "       'Alaotra.Mangoro', 'Amoron.i.Mania', 'Analamanga', 'Analanjirofo',\n",
       "       'Androy', 'Anosy', 'Atsimo.Andrefana', 'Atsimo.Atsinanana',\n",
       "       'Atsinanana', 'Betsiboka', 'Boeny', 'Bongolava', 'DIANA',\n",
       "       'Haute.Matsiatra', 'Ihorombe', 'Itasy', 'Melaky', 'Menabe', 'SAVA',\n",
       "       'Sofia', 'Vakinankaratra', 'Vatovavy.Fitovinany', 'Antananarivo',\n",
       "       'Antsiranana', 'Fianarantsoa', 'Mahajanga', 'Toamasina', 'Toliara',\n",
       "       'References'],\n",
       "      dtype='object')"
      ]
     },
     "execution_count": 2,
     "metadata": {},
     "output_type": "execute_result"
    }
   ],
   "source": [
    "# Read in data, replace -999 with NA\n",
    "df = pd.read_csv(\"BirdTraitData.csv\", encoding = 'unicode_escape', na_values = [-999])\n",
    "\n",
    "# Investigate columns\n",
    "df.columns"
   ]
  },
  {
   "cell_type": "code",
   "execution_count": 3,
   "metadata": {
    "tags": []
   },
   "outputs": [],
   "source": [
    "# Rename columns\n",
    "df = df.rename(columns={'Diet: invertebrates': 'Diet_Invertebrates',\n",
    "                       'Diet: vertebrates': 'Diet_Vertebrates',\n",
    "                       'Diet: fruits': 'Diet_Fruits',\n",
    "                       'Diet: flower/nectar/pollen/gums': 'Diet_Flowers',\n",
    "                       'Diet: seeds':'Diet_Seeds',\n",
    "                       'Diet: other plant materials': 'Diet_Plants',\n",
    "                       'Diet: scavenge; garbage; carrion; offal; carcasses': 'Diet_Other'})"
   ]
  },
  {
   "cell_type": "code",
   "execution_count": 4,
   "metadata": {
    "tags": []
   },
   "outputs": [],
   "source": [
    "# Select columns\n",
    "selected_columns = ['AdultBodyMass', \n",
    "                    'DietBreadth', \n",
    "                    'Diet_Invertebrates', \n",
    "                    'Diet_Vertebrates',\n",
    "                    'Diet_Fruits', \n",
    "                    'Diet_Flowers', \n",
    "                    'Diet_Seeds', \n",
    "                    'Diet_Plants', \n",
    "                    'Diet_Other',\n",
    "                    'TrophicLevel',\n",
    "                    'ActivityCycle', \n",
    "                    'ForagingStratum', \n",
    "                    'MigratoryStatus',\n",
    "                    'IncubationTime', \n",
    "                    'ClutchSize', \n",
    "                    'EggLength', \n",
    "                    'EggWidth',\n",
    "                    'EggMass', \n",
    "                    'NestingHabit',\n",
    "                    'MaxLongevity',\n",
    "                    'Subarid']\n",
    "\n",
    "# Filter df for selected columns\n",
    "df = df[selected_columns]"
   ]
  },
  {
   "cell_type": "code",
   "execution_count": 5,
   "metadata": {},
   "outputs": [
    {
     "data": {
      "text/html": [
       "<div>\n",
       "<style scoped>\n",
       "    .dataframe tbody tr th:only-of-type {\n",
       "        vertical-align: middle;\n",
       "    }\n",
       "\n",
       "    .dataframe tbody tr th {\n",
       "        vertical-align: top;\n",
       "    }\n",
       "\n",
       "    .dataframe thead th {\n",
       "        text-align: right;\n",
       "    }\n",
       "</style>\n",
       "<table border=\"1\" class=\"dataframe\">\n",
       "  <thead>\n",
       "    <tr style=\"text-align: right;\">\n",
       "      <th></th>\n",
       "      <th>AdultBodyMass</th>\n",
       "      <th>DietBreadth</th>\n",
       "      <th>Diet_Invertebrates</th>\n",
       "      <th>Diet_Vertebrates</th>\n",
       "      <th>Diet_Fruits</th>\n",
       "      <th>Diet_Flowers</th>\n",
       "      <th>Diet_Seeds</th>\n",
       "      <th>Diet_Plants</th>\n",
       "      <th>Diet_Other</th>\n",
       "      <th>TrophicLevel</th>\n",
       "      <th>...</th>\n",
       "      <th>ForagingStratum</th>\n",
       "      <th>MigratoryStatus</th>\n",
       "      <th>IncubationTime</th>\n",
       "      <th>ClutchSize</th>\n",
       "      <th>EggLength</th>\n",
       "      <th>EggWidth</th>\n",
       "      <th>EggMass</th>\n",
       "      <th>NestingHabit</th>\n",
       "      <th>MaxLongevity</th>\n",
       "      <th>Subarid</th>\n",
       "    </tr>\n",
       "  </thead>\n",
       "  <tbody>\n",
       "    <tr>\n",
       "      <th>0</th>\n",
       "      <td>138.5</td>\n",
       "      <td>2.0</td>\n",
       "      <td>yes</td>\n",
       "      <td>yes</td>\n",
       "      <td>no</td>\n",
       "      <td>no</td>\n",
       "      <td>no</td>\n",
       "      <td>no</td>\n",
       "      <td>no</td>\n",
       "      <td>3.0</td>\n",
       "      <td>...</td>\n",
       "      <td>3.0</td>\n",
       "      <td>no</td>\n",
       "      <td>31.0</td>\n",
       "      <td>3.0</td>\n",
       "      <td>3.85</td>\n",
       "      <td>NaN</td>\n",
       "      <td>NaN</td>\n",
       "      <td>arboreal</td>\n",
       "      <td>NaN</td>\n",
       "      <td>1</td>\n",
       "    </tr>\n",
       "    <tr>\n",
       "      <th>1</th>\n",
       "      <td>1050.0</td>\n",
       "      <td>1.0</td>\n",
       "      <td>no</td>\n",
       "      <td>yes</td>\n",
       "      <td>no</td>\n",
       "      <td>no</td>\n",
       "      <td>no</td>\n",
       "      <td>no</td>\n",
       "      <td>no</td>\n",
       "      <td>3.0</td>\n",
       "      <td>...</td>\n",
       "      <td>3.0</td>\n",
       "      <td>no</td>\n",
       "      <td>39.5</td>\n",
       "      <td>2.5</td>\n",
       "      <td>58.50</td>\n",
       "      <td>46.95</td>\n",
       "      <td>NaN</td>\n",
       "      <td>arboreal</td>\n",
       "      <td>NaN</td>\n",
       "      <td>1</td>\n",
       "    </tr>\n",
       "    <tr>\n",
       "      <th>2</th>\n",
       "      <td>181.0</td>\n",
       "      <td>2.0</td>\n",
       "      <td>yes</td>\n",
       "      <td>yes</td>\n",
       "      <td>no</td>\n",
       "      <td>no</td>\n",
       "      <td>no</td>\n",
       "      <td>no</td>\n",
       "      <td>no</td>\n",
       "      <td>3.0</td>\n",
       "      <td>...</td>\n",
       "      <td>3.0</td>\n",
       "      <td>no</td>\n",
       "      <td>35.0</td>\n",
       "      <td>2.5</td>\n",
       "      <td>38.35</td>\n",
       "      <td>31.90</td>\n",
       "      <td>NaN</td>\n",
       "      <td>arboreal</td>\n",
       "      <td>NaN</td>\n",
       "      <td>1</td>\n",
       "    </tr>\n",
       "    <tr>\n",
       "      <th>3</th>\n",
       "      <td>292.0</td>\n",
       "      <td>2.0</td>\n",
       "      <td>yes</td>\n",
       "      <td>yes</td>\n",
       "      <td>no</td>\n",
       "      <td>no</td>\n",
       "      <td>no</td>\n",
       "      <td>no</td>\n",
       "      <td>no</td>\n",
       "      <td>3.0</td>\n",
       "      <td>...</td>\n",
       "      <td>3.0</td>\n",
       "      <td>no</td>\n",
       "      <td>31.0</td>\n",
       "      <td>1.5</td>\n",
       "      <td>43.70</td>\n",
       "      <td>35.20</td>\n",
       "      <td>29.1</td>\n",
       "      <td>arboreal</td>\n",
       "      <td>NaN</td>\n",
       "      <td>1</td>\n",
       "    </tr>\n",
       "    <tr>\n",
       "      <th>4</th>\n",
       "      <td>511.0</td>\n",
       "      <td>2.0</td>\n",
       "      <td>yes</td>\n",
       "      <td>yes</td>\n",
       "      <td>no</td>\n",
       "      <td>no</td>\n",
       "      <td>no</td>\n",
       "      <td>no</td>\n",
       "      <td>no</td>\n",
       "      <td>3.0</td>\n",
       "      <td>...</td>\n",
       "      <td>4.0</td>\n",
       "      <td>no</td>\n",
       "      <td>35.5</td>\n",
       "      <td>2.0</td>\n",
       "      <td>54.50</td>\n",
       "      <td>45.00</td>\n",
       "      <td>NaN</td>\n",
       "      <td>arboreal</td>\n",
       "      <td>144.0</td>\n",
       "      <td>1</td>\n",
       "    </tr>\n",
       "  </tbody>\n",
       "</table>\n",
       "<p>5 rows × 21 columns</p>\n",
       "</div>"
      ],
      "text/plain": [
       "   AdultBodyMass  DietBreadth Diet_Invertebrates Diet_Vertebrates Diet_Fruits  \\\n",
       "0          138.5          2.0                yes              yes          no   \n",
       "1         1050.0          1.0                 no              yes          no   \n",
       "2          181.0          2.0                yes              yes          no   \n",
       "3          292.0          2.0                yes              yes          no   \n",
       "4          511.0          2.0                yes              yes          no   \n",
       "\n",
       "  Diet_Flowers Diet_Seeds Diet_Plants Diet_Other  TrophicLevel  ...  \\\n",
       "0           no         no          no         no           3.0  ...   \n",
       "1           no         no          no         no           3.0  ...   \n",
       "2           no         no          no         no           3.0  ...   \n",
       "3           no         no          no         no           3.0  ...   \n",
       "4           no         no          no         no           3.0  ...   \n",
       "\n",
       "   ForagingStratum  MigratoryStatus IncubationTime  ClutchSize  EggLength  \\\n",
       "0              3.0               no           31.0         3.0       3.85   \n",
       "1              3.0               no           39.5         2.5      58.50   \n",
       "2              3.0               no           35.0         2.5      38.35   \n",
       "3              3.0               no           31.0         1.5      43.70   \n",
       "4              4.0               no           35.5         2.0      54.50   \n",
       "\n",
       "   EggWidth  EggMass  NestingHabit MaxLongevity  Subarid  \n",
       "0       NaN      NaN      arboreal          NaN        1  \n",
       "1     46.95      NaN      arboreal          NaN        1  \n",
       "2     31.90      NaN      arboreal          NaN        1  \n",
       "3     35.20     29.1      arboreal          NaN        1  \n",
       "4     45.00      NaN      arboreal        144.0        1  \n",
       "\n",
       "[5 rows x 21 columns]"
      ]
     },
     "execution_count": 5,
     "metadata": {},
     "output_type": "execute_result"
    }
   ],
   "source": [
    "# Print the head\n",
    "df.head()"
   ]
  },
  {
   "cell_type": "markdown",
   "metadata": {},
   "source": [
    "### Step 2: Encode categorical variables\n",
    "In our dataset, some columns contain categorical (non-numeric) data, such as species names or habitat types that need to be converted to numerical representations. Let's use label encoding to assign a unique number to each category in a column.\n",
    "\n",
    "Encode the data using this process:\n",
    "1. Find all categorical columns in df using `.select_dtypes(include=['object'])`\n",
    "2. Loop through each categorical column and apply `LabelEncoder()`\n",
    "3. Replace the original categorical columns with their encoded values.\n",
    "4. Print the head of your dataframe to ensure that labels were in fact encoded. "
   ]
  },
  {
   "cell_type": "code",
   "execution_count": 6,
   "metadata": {
    "tags": []
   },
   "outputs": [
    {
     "name": "stdout",
     "output_type": "stream",
     "text": [
      "AdultBodyMass         0\n",
      "DietBreadth           0\n",
      "Diet_Invertebrates    0\n",
      "Diet_Vertebrates      0\n",
      "Diet_Fruits           0\n",
      "Diet_Flowers          0\n",
      "Diet_Seeds            0\n",
      "Diet_Plants           0\n",
      "Diet_Other            0\n",
      "TrophicLevel          0\n",
      "ActivityCycle         0\n",
      "ForagingStratum       0\n",
      "MigratoryStatus       0\n",
      "IncubationTime        0\n",
      "ClutchSize            0\n",
      "EggLength             0\n",
      "EggWidth              0\n",
      "EggMass               0\n",
      "NestingHabit          0\n",
      "MaxLongevity          0\n",
      "Subarid               0\n",
      "dtype: int64\n"
     ]
    }
   ],
   "source": [
    "# Impute missing values with mode\n",
    "imputer = SimpleImputer(strategy='most_frequent')\n",
    "df_imputed = pd.DataFrame(imputer.fit_transform(df), columns = df.columns)\n",
    "\n",
    "# Check\n",
    "print(df_imputed.isna().sum())"
   ]
  },
  {
   "cell_type": "code",
   "execution_count": 7,
   "metadata": {
    "tags": []
   },
   "outputs": [
    {
     "data": {
      "text/html": [
       "<div>\n",
       "<style scoped>\n",
       "    .dataframe tbody tr th:only-of-type {\n",
       "        vertical-align: middle;\n",
       "    }\n",
       "\n",
       "    .dataframe tbody tr th {\n",
       "        vertical-align: top;\n",
       "    }\n",
       "\n",
       "    .dataframe thead th {\n",
       "        text-align: right;\n",
       "    }\n",
       "</style>\n",
       "<table border=\"1\" class=\"dataframe\">\n",
       "  <thead>\n",
       "    <tr style=\"text-align: right;\">\n",
       "      <th></th>\n",
       "      <th>AdultBodyMass</th>\n",
       "      <th>DietBreadth</th>\n",
       "      <th>Diet_Invertebrates</th>\n",
       "      <th>Diet_Vertebrates</th>\n",
       "      <th>Diet_Fruits</th>\n",
       "      <th>Diet_Flowers</th>\n",
       "      <th>Diet_Seeds</th>\n",
       "      <th>Diet_Plants</th>\n",
       "      <th>Diet_Other</th>\n",
       "      <th>TrophicLevel</th>\n",
       "      <th>...</th>\n",
       "      <th>ForagingStratum</th>\n",
       "      <th>MigratoryStatus</th>\n",
       "      <th>IncubationTime</th>\n",
       "      <th>ClutchSize</th>\n",
       "      <th>EggLength</th>\n",
       "      <th>EggWidth</th>\n",
       "      <th>EggMass</th>\n",
       "      <th>NestingHabit</th>\n",
       "      <th>MaxLongevity</th>\n",
       "      <th>Subarid</th>\n",
       "    </tr>\n",
       "  </thead>\n",
       "  <tbody>\n",
       "    <tr>\n",
       "      <th>0</th>\n",
       "      <td>115</td>\n",
       "      <td>1</td>\n",
       "      <td>1</td>\n",
       "      <td>1</td>\n",
       "      <td>0</td>\n",
       "      <td>0</td>\n",
       "      <td>0</td>\n",
       "      <td>0</td>\n",
       "      <td>0</td>\n",
       "      <td>2</td>\n",
       "      <td>...</td>\n",
       "      <td>1</td>\n",
       "      <td>0</td>\n",
       "      <td>48</td>\n",
       "      <td>10</td>\n",
       "      <td>0</td>\n",
       "      <td>69</td>\n",
       "      <td>37</td>\n",
       "      <td>1</td>\n",
       "      <td>8</td>\n",
       "      <td>1</td>\n",
       "    </tr>\n",
       "    <tr>\n",
       "      <th>1</th>\n",
       "      <td>199</td>\n",
       "      <td>0</td>\n",
       "      <td>0</td>\n",
       "      <td>1</td>\n",
       "      <td>0</td>\n",
       "      <td>0</td>\n",
       "      <td>0</td>\n",
       "      <td>0</td>\n",
       "      <td>0</td>\n",
       "      <td>2</td>\n",
       "      <td>...</td>\n",
       "      <td>1</td>\n",
       "      <td>0</td>\n",
       "      <td>56</td>\n",
       "      <td>7</td>\n",
       "      <td>77</td>\n",
       "      <td>80</td>\n",
       "      <td>37</td>\n",
       "      <td>1</td>\n",
       "      <td>8</td>\n",
       "      <td>1</td>\n",
       "    </tr>\n",
       "    <tr>\n",
       "      <th>2</th>\n",
       "      <td>131</td>\n",
       "      <td>1</td>\n",
       "      <td>1</td>\n",
       "      <td>1</td>\n",
       "      <td>0</td>\n",
       "      <td>0</td>\n",
       "      <td>0</td>\n",
       "      <td>0</td>\n",
       "      <td>0</td>\n",
       "      <td>2</td>\n",
       "      <td>...</td>\n",
       "      <td>1</td>\n",
       "      <td>0</td>\n",
       "      <td>53</td>\n",
       "      <td>7</td>\n",
       "      <td>42</td>\n",
       "      <td>46</td>\n",
       "      <td>37</td>\n",
       "      <td>1</td>\n",
       "      <td>8</td>\n",
       "      <td>1</td>\n",
       "    </tr>\n",
       "    <tr>\n",
       "      <th>3</th>\n",
       "      <td>153</td>\n",
       "      <td>1</td>\n",
       "      <td>1</td>\n",
       "      <td>1</td>\n",
       "      <td>0</td>\n",
       "      <td>0</td>\n",
       "      <td>0</td>\n",
       "      <td>0</td>\n",
       "      <td>0</td>\n",
       "      <td>2</td>\n",
       "      <td>...</td>\n",
       "      <td>1</td>\n",
       "      <td>0</td>\n",
       "      <td>48</td>\n",
       "      <td>2</td>\n",
       "      <td>53</td>\n",
       "      <td>58</td>\n",
       "      <td>66</td>\n",
       "      <td>1</td>\n",
       "      <td>8</td>\n",
       "      <td>1</td>\n",
       "    </tr>\n",
       "    <tr>\n",
       "      <th>4</th>\n",
       "      <td>171</td>\n",
       "      <td>1</td>\n",
       "      <td>1</td>\n",
       "      <td>1</td>\n",
       "      <td>0</td>\n",
       "      <td>0</td>\n",
       "      <td>0</td>\n",
       "      <td>0</td>\n",
       "      <td>0</td>\n",
       "      <td>2</td>\n",
       "      <td>...</td>\n",
       "      <td>2</td>\n",
       "      <td>0</td>\n",
       "      <td>54</td>\n",
       "      <td>4</td>\n",
       "      <td>73</td>\n",
       "      <td>77</td>\n",
       "      <td>37</td>\n",
       "      <td>1</td>\n",
       "      <td>10</td>\n",
       "      <td>1</td>\n",
       "    </tr>\n",
       "  </tbody>\n",
       "</table>\n",
       "<p>5 rows × 21 columns</p>\n",
       "</div>"
      ],
      "text/plain": [
       "   AdultBodyMass  DietBreadth  Diet_Invertebrates  Diet_Vertebrates  \\\n",
       "0            115            1                   1                 1   \n",
       "1            199            0                   0                 1   \n",
       "2            131            1                   1                 1   \n",
       "3            153            1                   1                 1   \n",
       "4            171            1                   1                 1   \n",
       "\n",
       "   Diet_Fruits  Diet_Flowers  Diet_Seeds  Diet_Plants  Diet_Other  \\\n",
       "0            0             0           0            0           0   \n",
       "1            0             0           0            0           0   \n",
       "2            0             0           0            0           0   \n",
       "3            0             0           0            0           0   \n",
       "4            0             0           0            0           0   \n",
       "\n",
       "   TrophicLevel  ...  ForagingStratum  MigratoryStatus  IncubationTime  \\\n",
       "0             2  ...                1                0              48   \n",
       "1             2  ...                1                0              56   \n",
       "2             2  ...                1                0              53   \n",
       "3             2  ...                1                0              48   \n",
       "4             2  ...                2                0              54   \n",
       "\n",
       "   ClutchSize  EggLength  EggWidth  EggMass  NestingHabit  MaxLongevity  \\\n",
       "0          10          0        69       37             1             8   \n",
       "1           7         77        80       37             1             8   \n",
       "2           7         42        46       37             1             8   \n",
       "3           2         53        58       66             1             8   \n",
       "4           4         73        77       37             1            10   \n",
       "\n",
       "   Subarid  \n",
       "0        1  \n",
       "1        1  \n",
       "2        1  \n",
       "3        1  \n",
       "4        1  \n",
       "\n",
       "[5 rows x 21 columns]"
      ]
     },
     "execution_count": 7,
     "metadata": {},
     "output_type": "execute_result"
    }
   ],
   "source": [
    "# Recode categorical predictors to integers\n",
    "le = LabelEncoder()\n",
    "categorical = df_imputed.select_dtypes(include = ['object'])\n",
    "\n",
    "for column in categorical:\n",
    "    df_imputed[column] = le.fit_transform(df_imputed[column])\n",
    "    \n",
    "df_imputed.head()"
   ]
  },
  {
   "cell_type": "markdown",
   "metadata": {},
   "source": [
    "### Step 3: Defining features, splitting data, and training a bagging classifier\n",
    "Our goal for this analysis is to predict whether a given bird species is present in Subarid climate zones. \n",
    "\n",
    "1. Drop the corresponding variable from the features (X) and define it as the target (y). Then perform the train-test split with 70/30 train/test and a random state of 808.\n",
    "\n",
    "2. Initialize a bagging classifier with 100 trees, `oob_score =True`, `bootstrap = True` and `random_state = 808`.  \n",
    "\n",
    "3. Train the model."
   ]
  },
  {
   "cell_type": "code",
   "execution_count": 8,
   "metadata": {
    "tags": []
   },
   "outputs": [],
   "source": [
    "# Select features and target\n",
    "X = df_imputed[['AdultBodyMass', \n",
    "                    'DietBreadth', \n",
    "                    'Diet_Invertebrates', \n",
    "                    'Diet_Vertebrates',\n",
    "                    'Diet_Fruits', \n",
    "                    'Diet_Flowers', \n",
    "                    'Diet_Seeds', \n",
    "                    'Diet_Plants', \n",
    "                    'Diet_Other',\n",
    "                    'TrophicLevel',\n",
    "                    'ActivityCycle', \n",
    "                    'ForagingStratum', \n",
    "                    'MigratoryStatus',\n",
    "                    'IncubationTime', \n",
    "                    'ClutchSize', \n",
    "                    'EggLength', \n",
    "                    'EggWidth',\n",
    "                    'EggMass', \n",
    "                    'NestingHabit',\n",
    "                    'MaxLongevity']]\n",
    "\n",
    "y = df_imputed['Subarid']\n",
    "\n",
    "# Split the data into testing and training sets\n",
    "X_train, X_test, y_train, y_test = train_test_split(X,y, test_size = 0.3, random_state = 808)\n"
   ]
  },
  {
   "cell_type": "code",
   "execution_count": 9,
   "metadata": {
    "tags": []
   },
   "outputs": [
    {
     "data": {
      "text/html": [
       "<style>#sk-container-id-1 {color: black;}#sk-container-id-1 pre{padding: 0;}#sk-container-id-1 div.sk-toggleable {background-color: white;}#sk-container-id-1 label.sk-toggleable__label {cursor: pointer;display: block;width: 100%;margin-bottom: 0;padding: 0.3em;box-sizing: border-box;text-align: center;}#sk-container-id-1 label.sk-toggleable__label-arrow:before {content: \"▸\";float: left;margin-right: 0.25em;color: #696969;}#sk-container-id-1 label.sk-toggleable__label-arrow:hover:before {color: black;}#sk-container-id-1 div.sk-estimator:hover label.sk-toggleable__label-arrow:before {color: black;}#sk-container-id-1 div.sk-toggleable__content {max-height: 0;max-width: 0;overflow: hidden;text-align: left;background-color: #f0f8ff;}#sk-container-id-1 div.sk-toggleable__content pre {margin: 0.2em;color: black;border-radius: 0.25em;background-color: #f0f8ff;}#sk-container-id-1 input.sk-toggleable__control:checked~div.sk-toggleable__content {max-height: 200px;max-width: 100%;overflow: auto;}#sk-container-id-1 input.sk-toggleable__control:checked~label.sk-toggleable__label-arrow:before {content: \"▾\";}#sk-container-id-1 div.sk-estimator input.sk-toggleable__control:checked~label.sk-toggleable__label {background-color: #d4ebff;}#sk-container-id-1 div.sk-label input.sk-toggleable__control:checked~label.sk-toggleable__label {background-color: #d4ebff;}#sk-container-id-1 input.sk-hidden--visually {border: 0;clip: rect(1px 1px 1px 1px);clip: rect(1px, 1px, 1px, 1px);height: 1px;margin: -1px;overflow: hidden;padding: 0;position: absolute;width: 1px;}#sk-container-id-1 div.sk-estimator {font-family: monospace;background-color: #f0f8ff;border: 1px dotted black;border-radius: 0.25em;box-sizing: border-box;margin-bottom: 0.5em;}#sk-container-id-1 div.sk-estimator:hover {background-color: #d4ebff;}#sk-container-id-1 div.sk-parallel-item::after {content: \"\";width: 100%;border-bottom: 1px solid gray;flex-grow: 1;}#sk-container-id-1 div.sk-label:hover label.sk-toggleable__label {background-color: #d4ebff;}#sk-container-id-1 div.sk-serial::before {content: \"\";position: absolute;border-left: 1px solid gray;box-sizing: border-box;top: 0;bottom: 0;left: 50%;z-index: 0;}#sk-container-id-1 div.sk-serial {display: flex;flex-direction: column;align-items: center;background-color: white;padding-right: 0.2em;padding-left: 0.2em;position: relative;}#sk-container-id-1 div.sk-item {position: relative;z-index: 1;}#sk-container-id-1 div.sk-parallel {display: flex;align-items: stretch;justify-content: center;background-color: white;position: relative;}#sk-container-id-1 div.sk-item::before, #sk-container-id-1 div.sk-parallel-item::before {content: \"\";position: absolute;border-left: 1px solid gray;box-sizing: border-box;top: 0;bottom: 0;left: 50%;z-index: -1;}#sk-container-id-1 div.sk-parallel-item {display: flex;flex-direction: column;z-index: 1;position: relative;background-color: white;}#sk-container-id-1 div.sk-parallel-item:first-child::after {align-self: flex-end;width: 50%;}#sk-container-id-1 div.sk-parallel-item:last-child::after {align-self: flex-start;width: 50%;}#sk-container-id-1 div.sk-parallel-item:only-child::after {width: 0;}#sk-container-id-1 div.sk-dashed-wrapped {border: 1px dashed gray;margin: 0 0.4em 0.5em 0.4em;box-sizing: border-box;padding-bottom: 0.4em;background-color: white;}#sk-container-id-1 div.sk-label label {font-family: monospace;font-weight: bold;display: inline-block;line-height: 1.2em;}#sk-container-id-1 div.sk-label-container {text-align: center;}#sk-container-id-1 div.sk-container {/* jupyter's `normalize.less` sets `[hidden] { display: none; }` but bootstrap.min.css set `[hidden] { display: none !important; }` so we also need the `!important` here to be able to override the default hidden behavior on the sphinx rendered scikit-learn.org. See: https://github.com/scikit-learn/scikit-learn/issues/21755 */display: inline-block !important;position: relative;}#sk-container-id-1 div.sk-text-repr-fallback {display: none;}</style><div id=\"sk-container-id-1\" class=\"sk-top-container\"><div class=\"sk-text-repr-fallback\"><pre>BaggingClassifier(n_estimators=100, oob_score=True, random_state=808)</pre><b>In a Jupyter environment, please rerun this cell to show the HTML representation or trust the notebook. <br />On GitHub, the HTML representation is unable to render, please try loading this page with nbviewer.org.</b></div><div class=\"sk-container\" hidden><div class=\"sk-item\"><div class=\"sk-estimator sk-toggleable\"><input class=\"sk-toggleable__control sk-hidden--visually\" id=\"sk-estimator-id-1\" type=\"checkbox\" checked><label for=\"sk-estimator-id-1\" class=\"sk-toggleable__label sk-toggleable__label-arrow\">BaggingClassifier</label><div class=\"sk-toggleable__content\"><pre>BaggingClassifier(n_estimators=100, oob_score=True, random_state=808)</pre></div></div></div></div></div>"
      ],
      "text/plain": [
       "BaggingClassifier(n_estimators=100, oob_score=True, random_state=808)"
      ]
     },
     "execution_count": 9,
     "metadata": {},
     "output_type": "execute_result"
    }
   ],
   "source": [
    "# Initialize Bagging Classifier\n",
    "bagging = BaggingClassifier(\n",
    "        random_state = 808,\n",
    "        oob_score = True,\n",
    "        n_estimators = 100, # number of trees\n",
    "        bootstrap = True) \n",
    "\n",
    "# Fit model to data\n",
    "bagging.fit(X_train, y_train)"
   ]
  },
  {
   "cell_type": "markdown",
   "metadata": {},
   "source": [
    "### Step 4: Make predictions and evaluate the model\n",
    "\n",
    "1. Generate predictions\n",
    "- Use the trained bagging model to predict values for the test set (`X_test`).\n",
    "\n",
    "2. Calculate the Out-of-Bag (OOB) Score\n",
    "- The OOB score is an internal validation score computed using samples not included in bootstrapped subsets.\n",
    "\n",
    "3. Compute model accuracy\n",
    "- Print the OOB score and the bagging accuracy score."
   ]
  },
  {
   "cell_type": "code",
   "execution_count": 10,
   "metadata": {
    "tags": []
   },
   "outputs": [
    {
     "name": "stdout",
     "output_type": "stream",
     "text": [
      "OOB score: 0.858\n",
      "Bagging Accuracy Score: 0.918\n"
     ]
    }
   ],
   "source": [
    "# Predict values for test set\n",
    "bagging_preds = bagging.predict(X_test)\n",
    "\n",
    "# Calculate OOB score\n",
    "oob_score = bagging.oob_score_\n",
    "print(f'OOB score: {oob_score:.3f}')\n",
    "\n",
    "# Compute model accuracy\n",
    "bagging_accuracy = accuracy_score(y_test, bagging_preds)\n",
    "print(f'Bagging Accuracy Score: {bagging_accuracy:.3f}')"
   ]
  },
  {
   "cell_type": "markdown",
   "metadata": {},
   "source": [
    "### Step 5: Calculate and plot ROC curve\n",
    "\n",
    "- Use `label=f\"Bagging (AUC = {roc_auc_bagging:.2f})\"` to include the AUC value in the plot."
   ]
  },
  {
   "cell_type": "code",
   "execution_count": 11,
   "metadata": {
    "tags": []
   },
   "outputs": [
    {
     "data": {
      "image/png": "[encoded data removed]",
      "text/plain": [
       "<Figure size 800x600 with 1 Axes>"
      ]
     },
     "metadata": {},
     "output_type": "display_data"
    }
   ],
   "source": [
    "# Set up for ROC curve\n",
    "y_pred_prob = bagging.predict_proba(X_test)[:, 1]\n",
    "roc_auc_bagging = roc_auc_score(y_test, y_pred_prob)\n",
    "\n",
    "fpr, tpr, _ = roc_curve(y_test, y_pred_prob)\n",
    "\n",
    "# Plot ROC curve\n",
    "plt.figure(figsize = (8,6))\n",
    "plt.plot(fpr, tpr, color = 'darkblue', lw = 2, label = f'Bagging (AUC = {roc_auc_bagging:.2f})')\n",
    "plt.xlabel('False Positive Rate')\n",
    "plt.ylabel('True Positive Rate')\n",
    "plt.title('ROC Curve: Bagging Classifier')\n",
    "plt.legend()\n",
    "plt.grid(True)\n",
    "plt.show()"
   ]
  },
  {
   "cell_type": "markdown",
   "metadata": {},
   "source": [
    "Now how does the ROC curve look? How does this compare to our classification accuracy metric?  What might be going on? "
   ]
  },
  {
   "cell_type": "markdown",
   "metadata": {},
   "source": [
    "The ROC curve doesn't appear very steep, as is desired to generate a higher AUC score. A shallow curve is telling us that the False Positive (FP) rate is nearly the same as the True Positive (TP) rate. However, the accuracy metric is telling us that the model is performing well on the testing data. This disparity could be the result of a class imbalance. If the model is predicting the majority class correctly most of the time, it can give us both a high accuracy score and a high TP score. The few times it encounters a minority class (0) it will likely guess the majority class (1) which is wrong, generating a high FP score. The similarity in these scores is generating this shallow curve.  "
   ]
  },
  {
   "cell_type": "markdown",
   "metadata": {},
   "source": [
    "### Step 6: Introducing upsampling\n",
    "\n",
    "The ROC curve indicates that our model is not performing well.  This is a common issue in imbalanced datasets, where one class significantly outnumbers the other. To improve our model’s ability to correctly classify both groups, we will upsample the minority class so that both classes have equal representation in the training set.\n",
    "\n",
    "**Perform upsampling to balance the dataset**\n",
    "1. Separate the majority and minority classes:\n",
    "- Identify which class (0,1) is underrepresented (the minority class) and which is overrepresented (the majority class). \n",
    "- Separate both the `X_train` data and `y_train` data into all majority class and all minority class sets. \n",
    "2. Apply upsampling:\n",
    "- Use `resample()` to create additional synthetic samples of the minority class *with replacement* until it is the same size as the majority class data. Use a random state of 808. \n",
    "3. Combine the balanced classes:\n",
    "Merge the original majority class with the newly upsampled minority class.\n",
    "4. Shuffle the resampled dataset:\n",
    "- Randomly shuffle the data to ensure the model does not learn any unintended patterns from the order of the data. Use a random state of 808 for shuffling both the resampled X and y training data. \n",
    "5. Print the value counts for the resampled y training data to ensure that the data is balanced. \n"
   ]
  },
  {
   "cell_type": "code",
   "execution_count": 12,
   "metadata": {
    "tags": []
   },
   "outputs": [
    {
     "name": "stdout",
     "output_type": "stream",
     "text": [
      "Class 0: 25\n",
      "Class 1: 217\n",
      "Ratio of majority to minority class: 8.68\n",
      "Subarid\n",
      "1    150\n",
      "0    150\n",
      "Name: count, dtype: int64\n"
     ]
    }
   ],
   "source": [
    "# Identify majority class \n",
    "class_counts = df.Subarid.value_counts()\n",
    "print(f'Class 0: {class_counts[0]}')\n",
    "print(f'Class 1: {class_counts[1]}')\n",
    "\n",
    "# Separate majority and minority classes\n",
    "X_train_majority = X_train[y_train == 1]\n",
    "X_train_minority = X_train[y_train == 0]\n",
    "y_train_majority = y_train[y_train == 1]\n",
    "y_train_minority = y_train[y_train == 0]\n",
    "\n",
    "# Calculate ratio of majority to minority class\n",
    "ratio = class_counts[1]/class_counts[0]\n",
    "print(f'Ratio of majority to minority class: {ratio}')\n",
    "\n",
    "# Upsample the minority class\n",
    "X_train_minority_upsampled = resample(X_train_minority, \n",
    "                                 replace=True,    \n",
    "                                 n_samples=len(X_train_majority),    \n",
    "                                 random_state=808)\n",
    "\n",
    "y_train_minority_upsampled = resample(y_train_minority, \n",
    "                                 replace=True,    \n",
    "                                 n_samples=len(y_train_majority),    \n",
    "                                 random_state=808)\n",
    "\n",
    "# Combine majority and upsampled minority class\n",
    "X_train_upsampled = pd.concat([X_train_minority_upsampled, X_train_majority])\n",
    "y_train_upsampled = pd.concat([y_train_minority_upsampled, y_train_majority])\n",
    "\n",
    "# Shuffle the dataset\n",
    "X_train_bal = shuffle(X_train_upsampled, random_state = 808)\n",
    "y_train_bal = shuffle(y_train_upsampled, random_state = 808)\n",
    "\n",
    "# Print value counts \n",
    "print(y_train_bal.value_counts())"
   ]
  },
  {
   "cell_type": "code",
   "execution_count": 13,
   "metadata": {
    "tags": []
   },
   "outputs": [
    {
     "name": "stdout",
     "output_type": "stream",
     "text": [
      "     AdultBodyMass  DietBreadth  Diet_Invertebrates  Diet_Vertebrates  \\\n",
      "54             197            2                   1                 1   \n",
      "209            174            1                   1                 1   \n",
      "162             23            2                   1                 0   \n",
      "21              30            0                   1                 0   \n",
      "7              215            0                   0                 1   \n",
      "\n",
      "     Diet_Fruits  Diet_Flowers  Diet_Seeds  Diet_Plants  Diet_Other  \\\n",
      "54             0             0           0            0           1   \n",
      "209            0             0           0            0           0   \n",
      "162            0             1           1            0           0   \n",
      "21             0             0           0            0           0   \n",
      "7              0             0           0            0           0   \n",
      "\n",
      "     TrophicLevel  ActivityCycle  ForagingStratum  MigratoryStatus  \\\n",
      "54              1              2                0                0   \n",
      "209             2              2                0                0   \n",
      "162             1              2                1                0   \n",
      "21              2              2                2                1   \n",
      "7               2              2                0                0   \n",
      "\n",
      "     IncubationTime  ClutchSize  EggLength  EggWidth  EggMass  NestingHabit  \\\n",
      "54               38           4          2         0      101             5   \n",
      "209              45          19         44        69       65             5   \n",
      "162              29           0         44        69       37             1   \n",
      "21               25           4         44        69        6             2   \n",
      "7                57           4         88        86      104             1   \n",
      "\n",
      "     MaxLongevity  \n",
      "54             12  \n",
      "209             8  \n",
      "162             8  \n",
      "21              8  \n",
      "7               8  \n",
      "     AdultBodyMass  DietBreadth  Diet_Invertebrates  Diet_Vertebrates  \\\n",
      "17             214            2                   1                 0   \n",
      "51              66            1                   1                 1   \n",
      "152             38            0                   1                 0   \n",
      "79              93            0                   1                 0   \n",
      "95             154            2                   1                 0   \n",
      "\n",
      "     Diet_Fruits  Diet_Flowers  Diet_Seeds  Diet_Plants  Diet_Other  \\\n",
      "17             0             0           1            1           0   \n",
      "51             0             0           0            0           0   \n",
      "152            0             0           0            0           0   \n",
      "79             0             0           0            0           0   \n",
      "95             1             0           1            0           0   \n",
      "\n",
      "     TrophicLevel  ActivityCycle  ForagingStratum  MigratoryStatus  \\\n",
      "17              1              2                0                1   \n",
      "51              2              2                0                1   \n",
      "152             2              2                0                0   \n",
      "79              2              2                0                0   \n",
      "95              1              2                0                0   \n",
      "\n",
      "     IncubationTime  ClutchSize  EggLength  EggWidth  EggMass  NestingHabit  \\\n",
      "17               43          26         83        75       86             1   \n",
      "51               21           4         44        69       26             5   \n",
      "152              29           4         44        69       37             5   \n",
      "79               29           4         44        69       37             5   \n",
      "95               29           4         44        69       37             1   \n",
      "\n",
      "     MaxLongevity  \n",
      "17              8  \n",
      "51             32  \n",
      "152             8  \n",
      "79              8  \n",
      "95              8  \n"
     ]
    }
   ],
   "source": [
    "print(X_train.head())\n",
    "print(X_train_bal.head())"
   ]
  },
  {
   "cell_type": "markdown",
   "metadata": {},
   "source": [
    "### Step 7: Retrain and evaluate model using balanced data\n",
    "\n",
    "Now that we have addressed the class imbalance by upsampling the minority class, we will retrain the bagging classifier on the newly balanced dataset and evaluate its performance. This will help us determine whether handling class imbalance improves model accuracy and its ability to distinguish between classes. Create a bagging model using your balanced data. Use a random state of 808. Print the accuracy and and ROC Curve for this new model with balanced data. "
   ]
  },
  {
   "cell_type": "code",
   "execution_count": 14,
   "metadata": {
    "tags": []
   },
   "outputs": [
    {
     "name": "stdout",
     "output_type": "stream",
     "text": [
      "Balanced OOB score: 0.937\n",
      "Balanced Bagging Accuracy Score: 0.863\n"
     ]
    },
    {
     "data": {
      "image/png": "[encoded data removed]",
      "text/plain": [
       "<Figure size 800x600 with 1 Axes>"
      ]
     },
     "metadata": {},
     "output_type": "display_data"
    }
   ],
   "source": [
    "# Initialize Bagging Classifier\n",
    "bagging_bal = BaggingClassifier(\n",
    "        random_state = 808,\n",
    "        oob_score = True,\n",
    "        n_estimators = 100, # number of trees\n",
    "        bootstrap = True) \n",
    "\n",
    "bagging_bal.fit(X_train_bal, y_train_bal)\n",
    "\n",
    "bagging_preds_bal = bagging_bal.predict(X_test)\n",
    "\n",
    "oob_score_bal = bagging_bal.oob_score_\n",
    "print(f'Balanced OOB score: {oob_score_bal:.3f}')\n",
    "\n",
    "bagging_accuracy_bal = accuracy_score(y_test, bagging_preds_bal)\n",
    "print(f'Balanced Bagging Accuracy Score: {bagging_accuracy_bal:.3f}')\n",
    "\n",
    "y_pred_prob_bal = bagging_bal.predict_proba(X_test)[:, 1]\n",
    "roc_auc_bagging_bal = roc_auc_score(y_test, y_pred_prob_bal)\n",
    "\n",
    "# ROC curve\n",
    "fpr_bal, tpr_bal, _ = roc_curve(y_test, y_pred_prob_bal)\n",
    "\n",
    "# Plot ROC curve\n",
    "plt.figure(figsize = (8,6))\n",
    "plt.plot(fpr_bal, tpr_bal, color = 'darkblue', lw = 2, label = f'Bagging (AUC = {roc_auc_bagging_bal:.2f})')\n",
    "plt.xlabel('False Positive Rate')\n",
    "plt.ylabel('True Positive Rate')\n",
    "plt.title('ROC Curve: Balanced Bagging Classifier')\n",
    "plt.legend()\n",
    "plt.grid(True)\n",
    "plt.show()"
   ]
  },
  {
   "cell_type": "markdown",
   "metadata": {},
   "source": [
    "How did this second model, trained on balanced data, do in comparison to the first on the accuracy and AUC metrics.  How should we interpret those results?  Did the upscaling prove useful?"
   ]
  },
  {
   "cell_type": "markdown",
   "metadata": {},
   "source": [
    "The second model (using the balanced data) increased the OOB score from 0.858 to 0.937 but the accuracy score decreased from 0.918 to 0.863. Additionally, the AUC score stayed at 0.65. An increase in OOB score means the model's performance on *training* data has gotten better, but its decrease in accuracy means its performance on the *testing* data has gotten worse. Since the AUC score stays the same, it is very likely the model is overfitting and not generalizing well to the unseen test data. Upscaling proved to not be useful."
   ]
  },
  {
   "cell_type": "markdown",
   "metadata": {},
   "source": [
    "### Step 8: Analyzing feature importance with permutation importance\n",
    "\n",
    "Understanding which bird traits contribute the most to our model’s predictions is crucial for interpreting results. We covered in lecture how the results of ensemble methods are harder to interpret than a single decision tree.  But we do have some tools to do it.  In this step, we will compute permutation importance, which measures the impact of each trait by shuffling its values and observing the effect on model performance. This will help us identify which functional traits—such as diet, body mass, or habitat breadth—play the biggest role in predicting whether a species is found in a subarid environment.\n",
    "\n",
    "Use `permutation_importance()` to calculate the importance values.  You'll need to pass it the model, the feature and target test data, and an n_repeats value of 10."
   ]
  },
  {
   "cell_type": "code",
   "execution_count": 15,
   "metadata": {
    "tags": []
   },
   "outputs": [
    {
     "name": "stdout",
     "output_type": "stream",
     "text": [
      "AdultBodyMass: -0.0014\n",
      "DietBreadth: -0.0096\n",
      "Diet_Invertebrates: 0.0000\n",
      "Diet_Vertebrates: 0.0000\n",
      "Diet_Fruits: 0.0000\n",
      "Diet_Flowers: 0.0000\n",
      "Diet_Seeds: 0.0000\n",
      "Diet_Plants: 0.0000\n",
      "Diet_Other: 0.0000\n",
      "TrophicLevel: -0.0014\n",
      "ActivityCycle: -0.0027\n",
      "ForagingStratum: -0.0096\n",
      "MigratoryStatus: 0.0000\n",
      "IncubationTime: 0.0192\n",
      "ClutchSize: 0.0055\n",
      "EggLength: 0.0151\n",
      "EggWidth: 0.0014\n",
      "EggMass: -0.0137\n",
      "NestingHabit: 0.0000\n",
      "MaxLongevity: 0.0041\n"
     ]
    }
   ],
   "source": [
    "# Calculate permutation importance\n",
    "result = permutation_importance(bagging, X_test, y_test, n_repeats=10, random_state=808)\n",
    "\n",
    "# Match feature names to coefficients\n",
    "for feature, importance in zip(X_test.columns, result.importances_mean):\n",
    "    print(f'{feature}: {importance:.4f}')"
   ]
  },
  {
   "cell_type": "markdown",
   "metadata": {},
   "source": [
    "What features are most important in our model of species distribution?"
   ]
  },
  {
   "cell_type": "markdown",
   "metadata": {},
   "source": [
    "The most important features with the highest means include `EggLength` and `IncubationTime`."
   ]
  }
 ],
 "metadata": {
  "kernelspec": {
   "display_name": "Anaconda 3 (EDS232)",
   "language": "python",
   "name": "ml-env"
  },
  "language_info": {
   "codemirror_mode": {
    "name": "ipython",
    "version": 3
   },
   "file_extension": ".py",
   "mimetype": "text/x-python",
   "name": "python",
   "nbconvert_exporter": "python",
   "pygments_lexer": "ipython3",
   "version": "3.10.16"
  }
 },
 "nbformat": 4,
 "nbformat_minor": 4
}
