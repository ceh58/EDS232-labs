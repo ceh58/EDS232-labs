{
 "cells": [
  {
   "cell_type": "markdown",
   "id": "b6e8c422-cc19-4d89-8f96-003c36cf7c33",
   "metadata": {},
   "source": [
    "## Lab 7: Eel Distribution Modeling with XGBoost\n",
    "\n",
    "**Reference Paper:** [Elith et al. (2008)](https://ucsb.box.com/s/6k7636wsbogdg3orarxrlowke0ounbic)\n",
    "\n",
    "In this lab, you will model the distribution of the eel species *Anguilla australis* using **boosted classification trees (BCTs)**, a machine learning technique that improves predictive performance by combining multiple decision trees. Elith et al. (2008) offered an early implementation of BRTs in an ecological setting to understand how environmental variables influence eel distribution.\n",
    "\n",
    "You will work with **two datasets**:\n",
    "1. **Training Data** – Used to build and evaluate your XGBoost model.\n",
    "2. **Evaluation Data** – Used to assess model performance on unseen data.\n",
    "\n",
    "To achieve the following objectives:\n",
    "- Train and fine-tune an **XGBoost** model for classification of species presence/absence data.\n",
    "- Compare your model’s performance to the approach used by Elith et al.\n",
    "\n",
    "\n",
    "**Wherever applicable in this lab, use a random state of 808.**"
   ]
  },
  {
   "cell_type": "markdown",
   "id": "ac39e743-8686-4f51-85ee-7c1925002f5f",
   "metadata": {},
   "source": [
    "### Step 0: Load libraries and data\n"
   ]
  },
  {
   "cell_type": "code",
   "execution_count": 1,
   "id": "dd687480-182a-4416-9cdd-10eb33d147d1",
   "metadata": {
    "tags": []
   },
   "outputs": [],
   "source": [
    "import pandas as pd\n",
    "from sklearn.model_selection import train_test_split,RandomizedSearchCV\n",
    "from sklearn.preprocessing import LabelEncoder\n",
    "import xgboost as xgb\n",
    "from xgboost import XGBClassifier\n",
    "from sklearn.metrics import roc_auc_score\n",
    "from scipy.stats import uniform, randint\n",
    "\n",
    "# Download the datasets\n",
    "model_data = pd.read_csv(\"/courses/EDS232/Data/model.data.csv\").drop(columns=['Site'])\n",
    "eval_data = pd.read_csv(\"/courses/EDS232/Data/eval.data.csv\")"
   ]
  },
  {
   "cell_type": "markdown",
   "id": "21e16c25",
   "metadata": {},
   "source": [
    "### Step 1:Initial Data Preprocessing\n",
    "Let's get started by preparing our data. `Angaus` will be our target variable(`y`), and all other variables will be our features (`X`). Then encode the categorical feature using `LabelEncoder()`. The final step will be a bit different this time.  We don't need to split off testing data for the final model evaluation; a separate set (`eval_data`) will be used as in Elith et al.  We do, however, need to split our data in order to do the early stopping process. When splitting your data into training and validation, use a test size of 0.2 and a random state of 808. "
   ]
  },
  {
   "cell_type": "code",
   "execution_count": 2,
   "id": "178a49b9-b6e4-483c-ad31-4fef0d36d703",
   "metadata": {
    "tags": []
   },
   "outputs": [
    {
     "data": {
      "text/html": [
       "<div>\n",
       "<style scoped>\n",
       "    .dataframe tbody tr th:only-of-type {\n",
       "        vertical-align: middle;\n",
       "    }\n",
       "\n",
       "    .dataframe tbody tr th {\n",
       "        vertical-align: top;\n",
       "    }\n",
       "\n",
       "    .dataframe thead th {\n",
       "        text-align: right;\n",
       "    }\n",
       "</style>\n",
       "<table border=\"1\" class=\"dataframe\">\n",
       "  <thead>\n",
       "    <tr style=\"text-align: right;\">\n",
       "      <th></th>\n",
       "      <th>Angaus</th>\n",
       "      <th>SegSumT</th>\n",
       "      <th>SegTSeas</th>\n",
       "      <th>SegLowFlow</th>\n",
       "      <th>DSDist</th>\n",
       "      <th>DSMaxSlope</th>\n",
       "      <th>USAvgT</th>\n",
       "      <th>USRainDays</th>\n",
       "      <th>USSlope</th>\n",
       "      <th>USNative</th>\n",
       "      <th>DSDam</th>\n",
       "      <th>Method</th>\n",
       "      <th>LocSed</th>\n",
       "    </tr>\n",
       "  </thead>\n",
       "  <tbody>\n",
       "    <tr>\n",
       "      <th>0</th>\n",
       "      <td>0</td>\n",
       "      <td>16.0</td>\n",
       "      <td>-0.10</td>\n",
       "      <td>1.036</td>\n",
       "      <td>50.20</td>\n",
       "      <td>0.57</td>\n",
       "      <td>0.09</td>\n",
       "      <td>2.470</td>\n",
       "      <td>9.8</td>\n",
       "      <td>0.81</td>\n",
       "      <td>0</td>\n",
       "      <td>electric</td>\n",
       "      <td>4.8</td>\n",
       "    </tr>\n",
       "    <tr>\n",
       "      <th>1</th>\n",
       "      <td>1</td>\n",
       "      <td>18.7</td>\n",
       "      <td>1.51</td>\n",
       "      <td>1.003</td>\n",
       "      <td>132.53</td>\n",
       "      <td>1.15</td>\n",
       "      <td>0.20</td>\n",
       "      <td>1.153</td>\n",
       "      <td>8.3</td>\n",
       "      <td>0.34</td>\n",
       "      <td>0</td>\n",
       "      <td>electric</td>\n",
       "      <td>2.0</td>\n",
       "    </tr>\n",
       "    <tr>\n",
       "      <th>2</th>\n",
       "      <td>0</td>\n",
       "      <td>18.3</td>\n",
       "      <td>0.37</td>\n",
       "      <td>1.001</td>\n",
       "      <td>107.44</td>\n",
       "      <td>0.57</td>\n",
       "      <td>0.49</td>\n",
       "      <td>0.847</td>\n",
       "      <td>0.4</td>\n",
       "      <td>0.00</td>\n",
       "      <td>0</td>\n",
       "      <td>spo</td>\n",
       "      <td>1.0</td>\n",
       "    </tr>\n",
       "    <tr>\n",
       "      <th>3</th>\n",
       "      <td>0</td>\n",
       "      <td>16.7</td>\n",
       "      <td>-3.80</td>\n",
       "      <td>1.000</td>\n",
       "      <td>166.82</td>\n",
       "      <td>1.72</td>\n",
       "      <td>0.90</td>\n",
       "      <td>0.210</td>\n",
       "      <td>0.4</td>\n",
       "      <td>0.22</td>\n",
       "      <td>1</td>\n",
       "      <td>electric</td>\n",
       "      <td>4.0</td>\n",
       "    </tr>\n",
       "    <tr>\n",
       "      <th>4</th>\n",
       "      <td>1</td>\n",
       "      <td>17.2</td>\n",
       "      <td>0.33</td>\n",
       "      <td>1.005</td>\n",
       "      <td>3.95</td>\n",
       "      <td>1.15</td>\n",
       "      <td>-1.20</td>\n",
       "      <td>1.980</td>\n",
       "      <td>21.9</td>\n",
       "      <td>0.96</td>\n",
       "      <td>0</td>\n",
       "      <td>electric</td>\n",
       "      <td>4.7</td>\n",
       "    </tr>\n",
       "  </tbody>\n",
       "</table>\n",
       "</div>"
      ],
      "text/plain": [
       "   Angaus  SegSumT  SegTSeas  SegLowFlow  DSDist  DSMaxSlope  USAvgT  \\\n",
       "0       0     16.0     -0.10       1.036   50.20        0.57    0.09   \n",
       "1       1     18.7      1.51       1.003  132.53        1.15    0.20   \n",
       "2       0     18.3      0.37       1.001  107.44        0.57    0.49   \n",
       "3       0     16.7     -3.80       1.000  166.82        1.72    0.90   \n",
       "4       1     17.2      0.33       1.005    3.95        1.15   -1.20   \n",
       "\n",
       "   USRainDays  USSlope  USNative  DSDam    Method  LocSed  \n",
       "0       2.470      9.8      0.81      0  electric     4.8  \n",
       "1       1.153      8.3      0.34      0  electric     2.0  \n",
       "2       0.847      0.4      0.00      0       spo     1.0  \n",
       "3       0.210      0.4      0.22      1  electric     4.0  \n",
       "4       1.980     21.9      0.96      0  electric     4.7  "
      ]
     },
     "execution_count": 2,
     "metadata": {},
     "output_type": "execute_result"
    }
   ],
   "source": [
    "# Look at model data\n",
    "model_data.head()"
   ]
  },
  {
   "cell_type": "code",
   "execution_count": 3,
   "id": "40c00ca6-3c84-43a8-af99-454f0d0df3a2",
   "metadata": {
    "tags": []
   },
   "outputs": [],
   "source": [
    "# Select features\n",
    "X = model_data.drop('Angaus', axis = 1).copy()\n",
    "# Select target\n",
    "y = model_data['Angaus']"
   ]
  },
  {
   "cell_type": "code",
   "execution_count": 4,
   "id": "6cba5fc3-b402-4a38-8cbe-cf4b4e784ee5",
   "metadata": {
    "tags": []
   },
   "outputs": [
    {
     "data": {
      "text/html": [
       "<div>\n",
       "<style scoped>\n",
       "    .dataframe tbody tr th:only-of-type {\n",
       "        vertical-align: middle;\n",
       "    }\n",
       "\n",
       "    .dataframe tbody tr th {\n",
       "        vertical-align: top;\n",
       "    }\n",
       "\n",
       "    .dataframe thead th {\n",
       "        text-align: right;\n",
       "    }\n",
       "</style>\n",
       "<table border=\"1\" class=\"dataframe\">\n",
       "  <thead>\n",
       "    <tr style=\"text-align: right;\">\n",
       "      <th></th>\n",
       "      <th>SegSumT</th>\n",
       "      <th>SegTSeas</th>\n",
       "      <th>SegLowFlow</th>\n",
       "      <th>DSDist</th>\n",
       "      <th>DSMaxSlope</th>\n",
       "      <th>USAvgT</th>\n",
       "      <th>USRainDays</th>\n",
       "      <th>USSlope</th>\n",
       "      <th>USNative</th>\n",
       "      <th>DSDam</th>\n",
       "      <th>Method</th>\n",
       "      <th>LocSed</th>\n",
       "    </tr>\n",
       "  </thead>\n",
       "  <tbody>\n",
       "    <tr>\n",
       "      <th>0</th>\n",
       "      <td>16.0</td>\n",
       "      <td>-0.10</td>\n",
       "      <td>1.036</td>\n",
       "      <td>50.20</td>\n",
       "      <td>0.57</td>\n",
       "      <td>0.09</td>\n",
       "      <td>2.470</td>\n",
       "      <td>9.8</td>\n",
       "      <td>0.81</td>\n",
       "      <td>0</td>\n",
       "      <td>0</td>\n",
       "      <td>4.8</td>\n",
       "    </tr>\n",
       "    <tr>\n",
       "      <th>1</th>\n",
       "      <td>18.7</td>\n",
       "      <td>1.51</td>\n",
       "      <td>1.003</td>\n",
       "      <td>132.53</td>\n",
       "      <td>1.15</td>\n",
       "      <td>0.20</td>\n",
       "      <td>1.153</td>\n",
       "      <td>8.3</td>\n",
       "      <td>0.34</td>\n",
       "      <td>0</td>\n",
       "      <td>0</td>\n",
       "      <td>2.0</td>\n",
       "    </tr>\n",
       "    <tr>\n",
       "      <th>2</th>\n",
       "      <td>18.3</td>\n",
       "      <td>0.37</td>\n",
       "      <td>1.001</td>\n",
       "      <td>107.44</td>\n",
       "      <td>0.57</td>\n",
       "      <td>0.49</td>\n",
       "      <td>0.847</td>\n",
       "      <td>0.4</td>\n",
       "      <td>0.00</td>\n",
       "      <td>0</td>\n",
       "      <td>3</td>\n",
       "      <td>1.0</td>\n",
       "    </tr>\n",
       "    <tr>\n",
       "      <th>3</th>\n",
       "      <td>16.7</td>\n",
       "      <td>-3.80</td>\n",
       "      <td>1.000</td>\n",
       "      <td>166.82</td>\n",
       "      <td>1.72</td>\n",
       "      <td>0.90</td>\n",
       "      <td>0.210</td>\n",
       "      <td>0.4</td>\n",
       "      <td>0.22</td>\n",
       "      <td>1</td>\n",
       "      <td>0</td>\n",
       "      <td>4.0</td>\n",
       "    </tr>\n",
       "    <tr>\n",
       "      <th>4</th>\n",
       "      <td>17.2</td>\n",
       "      <td>0.33</td>\n",
       "      <td>1.005</td>\n",
       "      <td>3.95</td>\n",
       "      <td>1.15</td>\n",
       "      <td>-1.20</td>\n",
       "      <td>1.980</td>\n",
       "      <td>21.9</td>\n",
       "      <td>0.96</td>\n",
       "      <td>0</td>\n",
       "      <td>0</td>\n",
       "      <td>4.7</td>\n",
       "    </tr>\n",
       "  </tbody>\n",
       "</table>\n",
       "</div>"
      ],
      "text/plain": [
       "   SegSumT  SegTSeas  SegLowFlow  DSDist  DSMaxSlope  USAvgT  USRainDays  \\\n",
       "0     16.0     -0.10       1.036   50.20        0.57    0.09       2.470   \n",
       "1     18.7      1.51       1.003  132.53        1.15    0.20       1.153   \n",
       "2     18.3      0.37       1.001  107.44        0.57    0.49       0.847   \n",
       "3     16.7     -3.80       1.000  166.82        1.72    0.90       0.210   \n",
       "4     17.2      0.33       1.005    3.95        1.15   -1.20       1.980   \n",
       "\n",
       "   USSlope  USNative  DSDam  Method  LocSed  \n",
       "0      9.8      0.81      0       0     4.8  \n",
       "1      8.3      0.34      0       0     2.0  \n",
       "2      0.4      0.00      0       3     1.0  \n",
       "3      0.4      0.22      1       0     4.0  \n",
       "4     21.9      0.96      0       0     4.7  "
      ]
     },
     "execution_count": 4,
     "metadata": {},
     "output_type": "execute_result"
    }
   ],
   "source": [
    "# Recode categorical predictors to integers\n",
    "le = LabelEncoder()\n",
    "categorical = X.select_dtypes(include = ['object'])\n",
    "\n",
    "for column in categorical:\n",
    "    X[column] = le.fit_transform(X[column])\n",
    "\n",
    "# Check\n",
    "X.head()"
   ]
  },
  {
   "cell_type": "code",
   "execution_count": 5,
   "id": "53e94fdb-8037-4884-9d49-167816731996",
   "metadata": {
    "tags": []
   },
   "outputs": [],
   "source": [
    "# Split the model data into testing and validation sets\n",
    "X_train, X_val, y_train, y_val = train_test_split(X,y, test_size = 0.2, random_state = 808)"
   ]
  },
  {
   "cell_type": "markdown",
   "id": "e025a34e",
   "metadata": {},
   "source": [
    "### Step 2: Determine best number of trees using early stopping\n",
    "As a guard against overfitting while maximizing performance, we use **early stopping**. We start with a large number of trees and allow XGBoost to determine the optimal number by stopping training when the validation error no longer improves.\n",
    "\n",
    "The choice of hyperparameter starting values is important in this process. We begin with:\n",
    "- `n_estimators=1000` to ensure the model has enough capacity to learn meaningful patterns.\n",
    "- `learning_rate=0.1` as a reasonable default that balances learning speed and performance.\n",
    "- `eval_metric=\"logloss\"` as the metric of performance to optimize.\n",
    "- `early_stopping_rounds=50` to halt training if no improvement is seen for 50 rounds, preventing unnecessary computations.\n",
    "- `random_state = 808`\n",
    "\n",
    "We then `fit()` our specified baseline model, passing in the training sets as usual and specifying validation sets values for the `eval_set` parameter.\n",
    "\n",
    "Finally, get and print the best number of trees from the fitted baseline model.\n"
   ]
  },
  {
   "cell_type": "code",
   "execution_count": 6,
   "id": "55bf0fa0",
   "metadata": {
    "tags": []
   },
   "outputs": [
    {
     "name": "stdout",
     "output_type": "stream",
     "text": [
      "Best number of trees (n_estimators): 29\n"
     ]
    }
   ],
   "source": [
    "# Define initial XGBoost model\n",
    "model = xgb.XGBClassifier(n_estimators = 1000, \n",
    "                          learning_rate = 0.1, \n",
    "                          eval_metric = \"logloss\", \n",
    "                          early_stopping_rounds = 50, \n",
    "                          random_state = 808,\n",
    "                         n_jobs = -1)\n",
    "\n",
    "# Fit initial model\n",
    "model.fit(X_train, y_train, eval_set=[(X_val, y_val)], verbose = 0)\n",
    "\n",
    "print(f\"Best number of trees (n_estimators): {model.best_iteration}\")"
   ]
  },
  {
   "cell_type": "markdown",
   "id": "95ac1456",
   "metadata": {},
   "source": [
    "### Step 3: Tune Learning Rate\n",
    "\n",
    "The (`learning_rate` hyperparameter controls how much each tree contributes to improving the model's performance. A *higher* learning rate allows the model to learn quickly but risks missing the optimal solution and overfitting, while a *lower* learning rate makes learning slower but can improve generalization.\n",
    "\n",
    "To find the optimal value, we'll use **randomized search cross-validation** (`RandomizedSearchCV`) to test different learning rates in the 0.01 to 0.3 range. Instead of testing every possible value, this method samples a set number of candidates (`n_iter`) from a defined parameter distribution.  In this case, sampling 20 candidates from a uniform distribution between `0.01` and `0.31`. Check out the [documentation](https://docs.scipy.org/doc/scipy/reference/generated/scipy.stats.uniform.html) on `scipy.stats.uniform` to see how it differs from `random.uniform`. Be sure to use a random state of 808.\n",
    "\n",
    "After using `RandomizedSearchCV`, fit your model. Print the best learning rate. \n"
   ]
  },
  {
   "cell_type": "code",
   "execution_count": 7,
   "id": "42d9ae18-d32b-47d5-b8f7-643b98e08d0e",
   "metadata": {
    "tags": []
   },
   "outputs": [],
   "source": [
    "# Define initial XGBoost model\n",
    "model = xgb.XGBClassifier(n_estimators = 29,  \n",
    "                          random_state = 808,\n",
    "                         n_jobs = -1)"
   ]
  },
  {
   "cell_type": "code",
   "execution_count": 8,
   "id": "393b5c0b-b212-440b-a052-0c9a7e406b0f",
   "metadata": {
    "tags": []
   },
   "outputs": [
    {
     "name": "stdout",
     "output_type": "stream",
     "text": [
      "Fitting 5 folds for each of 20 candidates, totalling 100 fits\n",
      "The best learning rate is: 0.04204913369557677\n"
     ]
    }
   ],
   "source": [
    "# Define parameters\n",
    "param_dist = {\n",
    "    \"learning_rate\": uniform(0.01, 0.3)\n",
    "}\n",
    "\n",
    "# Set up RandomizedSearchCV\n",
    "random_search = RandomizedSearchCV(\n",
    "    model, \n",
    "    param_distributions = param_dist,  \n",
    "    n_iter = 20, \n",
    "    verbose = 1, \n",
    "    random_state = 808)\n",
    "\n",
    "# Run random search\n",
    "random_search.fit(X_train, y_train, verbose = 0)\n",
    "\n",
    "print(f'The best learning rate is: {random_search.best_params_[\"learning_rate\"]}')"
   ]
  },
  {
   "cell_type": "markdown",
   "id": "71907b11",
   "metadata": {},
   "source": [
    "### Step 4: Tune Tree-Specific Parameters\n",
    "\n",
    "Now that we've determined the best number of tree and learning rate, we need to tune the complexity of individual trees in our model. Initialize your model with the best number of trees and learning rate.Then, define a parameter dictionary that takes on the following values:  \n",
    "\n",
    "- `max_depth`(Controls how deep each tree can grow.  Takes integer values): A random integer from 3 to 10 ( inclusive of 3 and 10)\n",
    "- `min_child_weight`( Determines the minimum number of samples required in a leaf node. Takes integer values) : A random integer from 1 to 10 ( inclusive of 1 and 10)\n",
    "- `gamma` (Defines the minimum loss reduction needed to make a further split in a tree. Can take on values from a continuous range):  A uniform distribution from 0.05 to 0.10 - once again remember to check the `scipy.stats.uniform()` documentation! \n",
    "- `random_state = 808`\n",
    "\n",
    "To find the best combination, we again use `RandomizedSearchCV`, allowing us to efficiently sample hyperparameters and evaluate different configurations using cross-validation. After fitting the model, print the best parameters. \n",
    "\n"
   ]
  },
  {
   "cell_type": "code",
   "execution_count": 9,
   "id": "95c411a3",
   "metadata": {
    "tags": []
   },
   "outputs": [
    {
     "name": "stdout",
     "output_type": "stream",
     "text": [
      "The best max depth is: 9\n",
      "The best min child weight is: 2\n",
      "The best gamma is: 0.0757370018905035\n"
     ]
    }
   ],
   "source": [
    "# Define subsequent model\n",
    "model_2 = xgb.XGBClassifier(n_estimators = 29, \n",
    "                          learning_rate = random_search.best_params_[\"learning_rate\"],\n",
    "                            n_jobs = -1,\n",
    "                          random_state = 808)\n",
    "\n",
    "# Define tree-specific parameters\n",
    "param_dist = {\n",
    "    \"max_depth\": randint(3, 11),\n",
    "    \"min_child_weight\": randint(1, 11),\n",
    "    \"gamma\": uniform(0.05, 0.05),\n",
    "}\n",
    "\n",
    "# Set up RandomizedSearchCV\n",
    "random_search_2 = RandomizedSearchCV(\n",
    "    model_2, \n",
    "    param_distributions = param_dist, \n",
    "    n_iter = 20, \n",
    "    verbose = 0, \n",
    "    random_state = 808)\n",
    "\n",
    "# Run random search\n",
    "random_search_2.fit(X_train, y_train, verbose = 0)\n",
    "\n",
    "print(f'The best max depth is: {random_search_2.best_params_[\"max_depth\"]}')\n",
    "print(f'The best min child weight is: {random_search_2.best_params_[\"min_child_weight\"]}')\n",
    "print(f'The best gamma is: {random_search_2.best_params_[\"gamma\"]}')"
   ]
  },
  {
   "cell_type": "markdown",
   "id": "2168bf81",
   "metadata": {},
   "source": [
    "### Step 5: Tune Stochastic Components\n",
    "\n",
    "Now, we are finally ready to tune the stochastic components of the XGBoost model.  These parameters help prevent overfitting by reducing correlation between trees. Initialize your model with the best number of trees, best learning rate,and your optimized tree values (**Note**: you can use \\**best_tree_parameters to unpack the the dictionary of optimzed tree values) .Then, define a parameter dictionary that takes on the following values:  \n",
    "\n",
    "- `subsample` (Controls the fraction of training samples used for each boosting round) : A uniform distribution between .5 and .10 (remeber to check `scipy.stats.uniform()` documentation! )\n",
    "- `colsample_bytree`(Specifies the fraction of features to consider when building each tree) : A uniform distribution between .5 and .10\n",
    "- `random_state = 808`\n",
    "\n",
    "We again use `RandomizedSearchCV` to find the best combination of these parameters. After fitting the model, print the best parameters. \n"
   ]
  },
  {
   "cell_type": "code",
   "execution_count": 10,
   "id": "32a61aee-57b1-470b-aa07-488dbe70f898",
   "metadata": {
    "tags": []
   },
   "outputs": [
    {
     "name": "stdout",
     "output_type": "stream",
     "text": [
      "Fitting 5 folds for each of 20 candidates, totalling 100 fits\n",
      "The best subsample is: 0.940448212891594\n",
      "The best colsample by tree is: 0.9874386808985325\n"
     ]
    }
   ],
   "source": [
    "# Define subsequent model\n",
    "model_3 = xgb.XGBClassifier(n_estimators = 29, \n",
    "                            learning_rate = random_search.best_params_[\"learning_rate\"], \n",
    "                            max_depth = random_search_2.best_params_[\"max_depth\"],\n",
    "                            min_child_weight = random_search_2.best_params_[\"min_child_weight\"],\n",
    "                            gamma = random_search_2.best_params_[\"gamma\"],\n",
    "                            random_state = 808,\n",
    "                           n_jobs = -1)\n",
    "\n",
    "# Define stochastic parameters\n",
    "param_dist = {\n",
    "    \"subsample\": uniform(0.5, 0.5),\n",
    "    \"colsample_bytree\": uniform(0.5, 0.5)\n",
    "}\n",
    "\n",
    "# Set up RandomizedSearchCV\n",
    "random_search_3 = RandomizedSearchCV(\n",
    "    model_3, \n",
    "    param_distributions = param_dist, \n",
    "    n_iter = 20, \n",
    "    verbose = 1, \n",
    "    random_state = 808)\n",
    "\n",
    "# Run random search\n",
    "random_search_3.fit(X_train, y_train, verbose = 0)\n",
    "\n",
    "print(f'The best subsample is: {random_search_3.best_params_[\"subsample\"]}')\n",
    "print(f'The best colsample by tree is: {random_search_3.best_params_[\"colsample_bytree\"]}')"
   ]
  },
  {
   "cell_type": "markdown",
   "id": "355cd2d2",
   "metadata": {},
   "source": [
    "### Step 6: Final Model Training and Evaluation\n",
    "\n",
    "With the best hyperparameters selected, we now train the final model on the full training dataset and evaluate it on the separate evaluation dataset.\n",
    "\n",
    "1. Prepare the evaluation data in the same manner as you did the training data\n",
    "\n",
    "2. Train final model using the best parameters found in previous tuning steps (`best_tree_params`, `best_stochastic_params`).Set  `eval_metric = \"logloss\"` \n",
    "\n",
    "3. Fit the model to the full training dataset and predict on the evaluation data \n"
   ]
  },
  {
   "cell_type": "code",
   "execution_count": 11,
   "id": "5fb50e27-4565-4473-b7a8-b69df93c98ca",
   "metadata": {
    "scrolled": true,
    "tags": []
   },
   "outputs": [
    {
     "data": {
      "text/html": [
       "<div>\n",
       "<style scoped>\n",
       "    .dataframe tbody tr th:only-of-type {\n",
       "        vertical-align: middle;\n",
       "    }\n",
       "\n",
       "    .dataframe tbody tr th {\n",
       "        vertical-align: top;\n",
       "    }\n",
       "\n",
       "    .dataframe thead th {\n",
       "        text-align: right;\n",
       "    }\n",
       "</style>\n",
       "<table border=\"1\" class=\"dataframe\">\n",
       "  <thead>\n",
       "    <tr style=\"text-align: right;\">\n",
       "      <th></th>\n",
       "      <th>SegSumT</th>\n",
       "      <th>SegTSeas</th>\n",
       "      <th>SegLowFlow</th>\n",
       "      <th>DSDist</th>\n",
       "      <th>DSMaxSlope</th>\n",
       "      <th>USAvgT</th>\n",
       "      <th>USRainDays</th>\n",
       "      <th>USSlope</th>\n",
       "      <th>USNative</th>\n",
       "      <th>DSDam</th>\n",
       "      <th>Method</th>\n",
       "      <th>LocSed</th>\n",
       "    </tr>\n",
       "  </thead>\n",
       "  <tbody>\n",
       "    <tr>\n",
       "      <th>0</th>\n",
       "      <td>16.6</td>\n",
       "      <td>1.01</td>\n",
       "      <td>1.017</td>\n",
       "      <td>5.23</td>\n",
       "      <td>0.29</td>\n",
       "      <td>-1.40</td>\n",
       "      <td>1.980</td>\n",
       "      <td>10.0</td>\n",
       "      <td>1.00</td>\n",
       "      <td>0</td>\n",
       "      <td>0</td>\n",
       "      <td>4.9</td>\n",
       "    </tr>\n",
       "    <tr>\n",
       "      <th>1</th>\n",
       "      <td>16.8</td>\n",
       "      <td>-0.51</td>\n",
       "      <td>1.002</td>\n",
       "      <td>2.24</td>\n",
       "      <td>0.00</td>\n",
       "      <td>0.27</td>\n",
       "      <td>0.460</td>\n",
       "      <td>0.7</td>\n",
       "      <td>0.00</td>\n",
       "      <td>0</td>\n",
       "      <td>0</td>\n",
       "      <td>2.3</td>\n",
       "    </tr>\n",
       "    <tr>\n",
       "      <th>2</th>\n",
       "      <td>16.3</td>\n",
       "      <td>0.76</td>\n",
       "      <td>1.023</td>\n",
       "      <td>162.28</td>\n",
       "      <td>5.14</td>\n",
       "      <td>-0.60</td>\n",
       "      <td>0.806</td>\n",
       "      <td>21.4</td>\n",
       "      <td>0.66</td>\n",
       "      <td>0</td>\n",
       "      <td>0</td>\n",
       "      <td>4.3</td>\n",
       "    </tr>\n",
       "    <tr>\n",
       "      <th>3</th>\n",
       "      <td>15.6</td>\n",
       "      <td>1.56</td>\n",
       "      <td>1.003</td>\n",
       "      <td>4.05</td>\n",
       "      <td>0.57</td>\n",
       "      <td>1.14</td>\n",
       "      <td>3.300</td>\n",
       "      <td>0.9</td>\n",
       "      <td>0.75</td>\n",
       "      <td>0</td>\n",
       "      <td>2</td>\n",
       "      <td>1.0</td>\n",
       "    </tr>\n",
       "    <tr>\n",
       "      <th>4</th>\n",
       "      <td>14.6</td>\n",
       "      <td>-0.20</td>\n",
       "      <td>1.023</td>\n",
       "      <td>127.03</td>\n",
       "      <td>1.72</td>\n",
       "      <td>-1.90</td>\n",
       "      <td>1.940</td>\n",
       "      <td>28.9</td>\n",
       "      <td>0.97</td>\n",
       "      <td>0</td>\n",
       "      <td>0</td>\n",
       "      <td>NaN</td>\n",
       "    </tr>\n",
       "  </tbody>\n",
       "</table>\n",
       "</div>"
      ],
      "text/plain": [
       "   SegSumT  SegTSeas  SegLowFlow  DSDist  DSMaxSlope  USAvgT  USRainDays  \\\n",
       "0     16.6      1.01       1.017    5.23        0.29   -1.40       1.980   \n",
       "1     16.8     -0.51       1.002    2.24        0.00    0.27       0.460   \n",
       "2     16.3      0.76       1.023  162.28        5.14   -0.60       0.806   \n",
       "3     15.6      1.56       1.003    4.05        0.57    1.14       3.300   \n",
       "4     14.6     -0.20       1.023  127.03        1.72   -1.90       1.940   \n",
       "\n",
       "   USSlope  USNative  DSDam  Method  LocSed  \n",
       "0     10.0      1.00      0       0     4.9  \n",
       "1      0.7      0.00      0       0     2.3  \n",
       "2     21.4      0.66      0       0     4.3  \n",
       "3      0.9      0.75      0       2     1.0  \n",
       "4     28.9      0.97      0       0     NaN  "
      ]
     },
     "execution_count": 11,
     "metadata": {},
     "output_type": "execute_result"
    }
   ],
   "source": [
    "# Predict on eval data\n",
    "X_eval = eval_data.drop('Angaus_obs', axis = 1).copy()\n",
    "y_eval = eval_data['Angaus_obs']\n",
    "\n",
    "# prepare eval data\n",
    "le = LabelEncoder()\n",
    "categorical = X_eval.select_dtypes(include = ['object'])\n",
    "\n",
    "for column in categorical:\n",
    "    X_eval[column] = le.fit_transform(X_eval[column])\n",
    "\n",
    "# Check\n",
    "X_eval.head()"
   ]
  },
  {
   "cell_type": "code",
   "execution_count": 12,
   "id": "d45bfb45-ba0c-4e26-9e36-b53b86538f0d",
   "metadata": {
    "scrolled": true,
    "tags": []
   },
   "outputs": [
    {
     "data": {
      "text/html": [
       "<style>#sk-container-id-1 {color: black;}#sk-container-id-1 pre{padding: 0;}#sk-container-id-1 div.sk-toggleable {background-color: white;}#sk-container-id-1 label.sk-toggleable__label {cursor: pointer;display: block;width: 100%;margin-bottom: 0;padding: 0.3em;box-sizing: border-box;text-align: center;}#sk-container-id-1 label.sk-toggleable__label-arrow:before {content: \"▸\";float: left;margin-right: 0.25em;color: #696969;}#sk-container-id-1 label.sk-toggleable__label-arrow:hover:before {color: black;}#sk-container-id-1 div.sk-estimator:hover label.sk-toggleable__label-arrow:before {color: black;}#sk-container-id-1 div.sk-toggleable__content {max-height: 0;max-width: 0;overflow: hidden;text-align: left;background-color: #f0f8ff;}#sk-container-id-1 div.sk-toggleable__content pre {margin: 0.2em;color: black;border-radius: 0.25em;background-color: #f0f8ff;}#sk-container-id-1 input.sk-toggleable__control:checked~div.sk-toggleable__content {max-height: 200px;max-width: 100%;overflow: auto;}#sk-container-id-1 input.sk-toggleable__control:checked~label.sk-toggleable__label-arrow:before {content: \"▾\";}#sk-container-id-1 div.sk-estimator input.sk-toggleable__control:checked~label.sk-toggleable__label {background-color: #d4ebff;}#sk-container-id-1 div.sk-label input.sk-toggleable__control:checked~label.sk-toggleable__label {background-color: #d4ebff;}#sk-container-id-1 input.sk-hidden--visually {border: 0;clip: rect(1px 1px 1px 1px);clip: rect(1px, 1px, 1px, 1px);height: 1px;margin: -1px;overflow: hidden;padding: 0;position: absolute;width: 1px;}#sk-container-id-1 div.sk-estimator {font-family: monospace;background-color: #f0f8ff;border: 1px dotted black;border-radius: 0.25em;box-sizing: border-box;margin-bottom: 0.5em;}#sk-container-id-1 div.sk-estimator:hover {background-color: #d4ebff;}#sk-container-id-1 div.sk-parallel-item::after {content: \"\";width: 100%;border-bottom: 1px solid gray;flex-grow: 1;}#sk-container-id-1 div.sk-label:hover label.sk-toggleable__label {background-color: #d4ebff;}#sk-container-id-1 div.sk-serial::before {content: \"\";position: absolute;border-left: 1px solid gray;box-sizing: border-box;top: 0;bottom: 0;left: 50%;z-index: 0;}#sk-container-id-1 div.sk-serial {display: flex;flex-direction: column;align-items: center;background-color: white;padding-right: 0.2em;padding-left: 0.2em;position: relative;}#sk-container-id-1 div.sk-item {position: relative;z-index: 1;}#sk-container-id-1 div.sk-parallel {display: flex;align-items: stretch;justify-content: center;background-color: white;position: relative;}#sk-container-id-1 div.sk-item::before, #sk-container-id-1 div.sk-parallel-item::before {content: \"\";position: absolute;border-left: 1px solid gray;box-sizing: border-box;top: 0;bottom: 0;left: 50%;z-index: -1;}#sk-container-id-1 div.sk-parallel-item {display: flex;flex-direction: column;z-index: 1;position: relative;background-color: white;}#sk-container-id-1 div.sk-parallel-item:first-child::after {align-self: flex-end;width: 50%;}#sk-container-id-1 div.sk-parallel-item:last-child::after {align-self: flex-start;width: 50%;}#sk-container-id-1 div.sk-parallel-item:only-child::after {width: 0;}#sk-container-id-1 div.sk-dashed-wrapped {border: 1px dashed gray;margin: 0 0.4em 0.5em 0.4em;box-sizing: border-box;padding-bottom: 0.4em;background-color: white;}#sk-container-id-1 div.sk-label label {font-family: monospace;font-weight: bold;display: inline-block;line-height: 1.2em;}#sk-container-id-1 div.sk-label-container {text-align: center;}#sk-container-id-1 div.sk-container {/* jupyter's `normalize.less` sets `[hidden] { display: none; }` but bootstrap.min.css set `[hidden] { display: none !important; }` so we also need the `!important` here to be able to override the default hidden behavior on the sphinx rendered scikit-learn.org. See: https://github.com/scikit-learn/scikit-learn/issues/21755 */display: inline-block !important;position: relative;}#sk-container-id-1 div.sk-text-repr-fallback {display: none;}</style><div id=\"sk-container-id-1\" class=\"sk-top-container\"><div class=\"sk-text-repr-fallback\"><pre>XGBClassifier(base_score=None, booster=None, callbacks=None,\n",
       "              colsample_bylevel=None, colsample_bynode=None,\n",
       "              colsample_bytree=0.9874386808985325, device=None,\n",
       "              early_stopping_rounds=None, enable_categorical=False,\n",
       "              eval_metric=&#x27;logloss&#x27;, feature_types=None,\n",
       "              gamma=0.0757370018905035, grow_policy=None, importance_type=None,\n",
       "              interaction_constraints=None, learning_rate=0.04204913369557677,\n",
       "              max_bin=None, max_cat_threshold=None, max_cat_to_onehot=None,\n",
       "              max_delta_step=None, max_depth=9, max_leaves=None,\n",
       "              min_child_weight=2, missing=nan, monotone_constraints=None,\n",
       "              multi_strategy=None, n_estimators=29, n_jobs=-1,\n",
       "              num_parallel_tree=None, random_state=808, ...)</pre><b>In a Jupyter environment, please rerun this cell to show the HTML representation or trust the notebook. <br />On GitHub, the HTML representation is unable to render, please try loading this page with nbviewer.org.</b></div><div class=\"sk-container\" hidden><div class=\"sk-item\"><div class=\"sk-estimator sk-toggleable\"><input class=\"sk-toggleable__control sk-hidden--visually\" id=\"sk-estimator-id-1\" type=\"checkbox\" checked><label for=\"sk-estimator-id-1\" class=\"sk-toggleable__label sk-toggleable__label-arrow\">XGBClassifier</label><div class=\"sk-toggleable__content\"><pre>XGBClassifier(base_score=None, booster=None, callbacks=None,\n",
       "              colsample_bylevel=None, colsample_bynode=None,\n",
       "              colsample_bytree=0.9874386808985325, device=None,\n",
       "              early_stopping_rounds=None, enable_categorical=False,\n",
       "              eval_metric=&#x27;logloss&#x27;, feature_types=None,\n",
       "              gamma=0.0757370018905035, grow_policy=None, importance_type=None,\n",
       "              interaction_constraints=None, learning_rate=0.04204913369557677,\n",
       "              max_bin=None, max_cat_threshold=None, max_cat_to_onehot=None,\n",
       "              max_delta_step=None, max_depth=9, max_leaves=None,\n",
       "              min_child_weight=2, missing=nan, monotone_constraints=None,\n",
       "              multi_strategy=None, n_estimators=29, n_jobs=-1,\n",
       "              num_parallel_tree=None, random_state=808, ...)</pre></div></div></div></div></div>"
      ],
      "text/plain": [
       "XGBClassifier(base_score=None, booster=None, callbacks=None,\n",
       "              colsample_bylevel=None, colsample_bynode=None,\n",
       "              colsample_bytree=0.9874386808985325, device=None,\n",
       "              early_stopping_rounds=None, enable_categorical=False,\n",
       "              eval_metric='logloss', feature_types=None,\n",
       "              gamma=0.0757370018905035, grow_policy=None, importance_type=None,\n",
       "              interaction_constraints=None, learning_rate=0.04204913369557677,\n",
       "              max_bin=None, max_cat_threshold=None, max_cat_to_onehot=None,\n",
       "              max_delta_step=None, max_depth=9, max_leaves=None,\n",
       "              min_child_weight=2, missing=nan, monotone_constraints=None,\n",
       "              multi_strategy=None, n_estimators=29, n_jobs=-1,\n",
       "              num_parallel_tree=None, random_state=808, ...)"
      ]
     },
     "execution_count": 12,
     "metadata": {},
     "output_type": "execute_result"
    }
   ],
   "source": [
    "# Define final model\n",
    "model_final = xgb.XGBClassifier(n_estimators = 29, \n",
    "                                learning_rate = random_search.best_params_[\"learning_rate\"], \n",
    "                                max_depth = random_search_2.best_params_[\"max_depth\"],\n",
    "                                min_child_weight = random_search_2.best_params_[\"min_child_weight\"],\n",
    "                                gamma = random_search_2.best_params_[\"gamma\"],\n",
    "                                subsample = random_search_3.best_params_[\"subsample\"],\n",
    "                                colsample_bytree = random_search_3.best_params_[\"colsample_bytree\"],\n",
    "                                eval_metric = \"logloss\",\n",
    "                                random_state = 808,\n",
    "                               n_jobs = -1)\n",
    "# Fit final model\n",
    "model_final.fit(X, y, verbose = 0)"
   ]
  },
  {
   "cell_type": "markdown",
   "id": "1f39d80a",
   "metadata": {},
   "source": [
    "### Step 7: Model Performance\n",
    "\n",
    "Compute and print the AUC and feature importances for your model."
   ]
  },
  {
   "cell_type": "code",
   "execution_count": 13,
   "id": "cc9df468",
   "metadata": {
    "tags": []
   },
   "outputs": [
    {
     "name": "stdout",
     "output_type": "stream",
     "text": [
      "AUC Score: 0.872\n",
      "       Feature  Importance\n",
      "0      SegSumT    0.288034\n",
      "10      Method    0.142183\n",
      "4   DSMaxSlope    0.088396\n",
      "8     USNative    0.087599\n",
      "6   USRainDays    0.070524\n",
      "5       USAvgT    0.062914\n",
      "7      USSlope    0.062694\n",
      "11      LocSed    0.051671\n",
      "3       DSDist    0.040877\n",
      "1     SegTSeas    0.040633\n",
      "2   SegLowFlow    0.033220\n",
      "9        DSDam    0.031255\n"
     ]
    }
   ],
   "source": [
    "# Compute AUC\n",
    "y_probs = model_final.predict_proba(X_eval)[:, 1]\n",
    "roc_auc = roc_auc_score(y_eval, y_probs)\n",
    "\n",
    "print(f\"AUC Score: {roc_auc:.3f}\")\n",
    "\n",
    "# Extract feature importance\n",
    "feature_importance = model_final.feature_importances_\n",
    "\n",
    "# Create a DataFrame for better visualization\n",
    "feature_names = X_train.columns  # Assuming X_train is a Pandas DataFrame\n",
    "importance_df = pd.DataFrame({'Feature': feature_names, 'Importance': feature_importance})\n",
    "\n",
    "# Sort by importance\n",
    "importance_df = importance_df.sort_values(by='Importance', ascending=False)\n",
    "\n",
    "# Display the feature importance\n",
    "print(importance_df)"
   ]
  },
  {
   "cell_type": "markdown",
   "id": "7476ef1d",
   "metadata": {},
   "source": [
    "### Step 8: The comparison\n",
    "How does your model's performance compare to the of Elith et al. (See Tables 2 and 3)?  Is there another way to compare the models in addition to predictive performance?  Whose model wins in that regard?"
   ]
  },
  {
   "cell_type": "markdown",
   "id": "07dc2a69-bf1e-4442-ad9e-22dc26e0f2b3",
   "metadata": {
    "tags": []
   },
   "source": [
    "My model has a slightly larger AUC score (0.872) as compared to Elith et al (0.869). Based on the number of trees (29 vs. 1050, respectively), I would say that my model is more efficient computationally. We also have the same top feature `SegSumT`, but the features diverage after that. "
   ]
  }
 ],
 "metadata": {
  "kernelspec": {
   "display_name": "Anaconda 3 (EDS232)",
   "language": "python",
   "name": "ml-env"
  },
  "language_info": {
   "codemirror_mode": {
    "name": "ipython",
    "version": 3
   },
   "file_extension": ".py",
   "mimetype": "text/x-python",
   "name": "python",
   "nbconvert_exporter": "python",
   "pygments_lexer": "ipython3",
   "version": "3.10.16"
  }
 },
 "nbformat": 4,
 "nbformat_minor": 5
}
