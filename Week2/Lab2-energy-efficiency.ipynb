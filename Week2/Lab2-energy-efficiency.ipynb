{
 "cells": [
  {
   "cell_type": "markdown",
   "id": "16c0708e-dea9-4b21-966c-299bb273e08e",
   "metadata": {},
   "source": [
    "# EDS232 Lab 2: Regularized Regression and Energy Modeling\n",
    "\n",
    "\n",
    "## Overview\n",
    "In this lab, you will explore Ridge Regression and Lasso Regression, two common techniques for regularized regression. Both methods add penalties to the standard regression coefficients, which can help prevent overfitting and improve model interpretability.\n",
    "\n",
    "## Key Concepts\n",
    "\n",
    "**Types of Regularization:**\n",
    "\n",
    "- Ridge Regression:\n",
    "\n",
    "    - Adds an L2 penalty ($\\lambda \\sum_{j=1}^p \\beta_j^2 $) to the regression loss function.\n",
    "    - Shrinks coefficients toward zero but does not set any coefficients exactly to zero.\n",
    "    - Best suited for reducing multicollinearity and improving model stability.\n",
    "\n",
    "- Lasso Regression:\n",
    "\n",
    "    - Adds an L1 penalty ($\\lambda \\sum_{j=1}^p |\\beta_j|$) to the regression loss function.\n",
    "    - Can shrink some coefficients to exactly zero, effectively performing feature selection.\n",
    "    - Useful when you want a simpler, interpretable model.\n",
    "\n",
    "**Cross-Validation**\n",
    "\n",
    "- Cross-validation is a method for model evaluation and hyperparameter tuning.  In this lab we will be tuning $\\lambda$, which controls the penalty terms.\n",
    "\n",
    "- Note: Sci-kit learn refers to $\\lambda$, the regularization penalty hyperparameter, as \"alpha\" instead of \"lambda\" \n",
    "\n",
    "\n",
    "## About the data\n",
    "\n",
    "Buildings account for a significant portion of global energy consumption. Effective energy modeling and analysis are critical for designing energy-efficient buildings, reducing greenhouse gas emissions, and meeting sustainability goals. \n",
    "\n",
    "- This dataset contains energy performance data for 768 different building configurations, generated through simulation using Ecotect software. These configurations vary across multiple architectural features:\n",
    "\n",
    "| Feature                     | Description                                                                                   |\n",
    "|-----------------------------|-----------------------------------------------------------------------------------------------|\n",
    "| Relative Compactness        | A measure of how compact the building's shape is.                                             |\n",
    "| Surface Area                | The total external surface area of the building.                                              |\n",
    "| Wall Area                   | The total area of the walls.                                                                  |\n",
    "| Roof Area                   | The area of the roof.                                                                         |\n",
    "| Overall Height              | The height of the building.                                                                   |\n",
    "| Orientation                 | The direction the building faces (categorical, encoded numerically).                         |\n",
    "| Glazing Area                | The percentage of the building’s facade that is glass.                                        |\n",
    "| Glazing Area Distribution   | The distribution of the glazing area (e.g., evenly distributed or concentrated on one side). |\n",
    "| Heating Load (Y1)           | Continuous target variable representing heating energy requirements. (This is the one we'll use for today's lab.) |\n",
    "| Cooling Load (Y2)           | Continuous target variable representing cooling energy requirements. (We won't be using this one.) |\n"
   ]
  },
  {
   "cell_type": "code",
   "execution_count": 1,
   "id": "afd7e68a-91ab-4566-a3a7-3e599191e6a0",
   "metadata": {
    "tags": []
   },
   "outputs": [],
   "source": [
    "# Import libraries\n",
    "import pandas as pd\n",
    "import numpy as np\n",
    "import matplotlib.pyplot as plt\n",
    "from sklearn.model_selection import train_test_split\n",
    "from sklearn.metrics import mean_squared_error\n",
    "from sklearn.linear_model import LinearRegression\n",
    "from sklearn.preprocessing import StandardScaler\n",
    "from sklearn.linear_model import Ridge\n",
    "from sklearn.linear_model import Lasso\n",
    "from sklearn.linear_model import RidgeCV\n",
    "from sklearn.linear_model import LassoCV\n",
    "from ucimlrepo import fetch_ucirepo \n"
   ]
  },
  {
   "cell_type": "markdown",
   "id": "052cec6a",
   "metadata": {},
   "source": [
    "### Step 1: Fetch  dataset \n",
    "Grab the data from the UC Irvine Machine Learning Repository using fetch_ucirepo.  Note that the object returned contains both tabular data as well as metadata.  We'll need to add column names to the tabular data."
   ]
  },
  {
   "cell_type": "code",
   "execution_count": 2,
   "id": "ea0ecf0b-bce9-47ad-b902-d9dcf2448dfe",
   "metadata": {
    "tags": []
   },
   "outputs": [],
   "source": [
    "# Fetch dataset\n",
    "energy_efficiency = fetch_ucirepo(id=242)\n",
    "\n",
    "#Specify column names as a list of names from the metadata\n",
    "feature_names = [\"Relative Compactness\",\n",
    "    \"Surface Area\",\n",
    "    \"Wall Area\",\n",
    "    \"Roof Area\",\n",
    "    \"Overall Height\",\n",
    "    \"Orientation\",\n",
    "    \"Glazing Area\",\n",
    "    \"Glazing Area Distribution\",]\n",
    "\n",
    "#Add feature_names as column names in energy_efficiency.data\n",
    "energy_efficiency.data['features'].columns = feature_names\n",
    "\n",
    "# Rename the 'targets' columns and assign Heating Load target to heating_load\n",
    "energy_efficiency.data['targets'].columns = [\"Heating Load\", \"Cooling Load\"]\n",
    "\n",
    "heating_load = energy_efficiency.data['targets'][\"Heating Load\"]\n"
   ]
  },
  {
   "cell_type": "code",
   "execution_count": 3,
   "id": "8c230dca-6ad2-43c6-b3a7-2bb0f2e2e232",
   "metadata": {
    "tags": []
   },
   "outputs": [
    {
     "data": {
      "text/plain": [
       "ucimlrepo.dotdict.dotdict"
      ]
     },
     "execution_count": 3,
     "metadata": {},
     "output_type": "execute_result"
    }
   ],
   "source": [
    "type(energy_efficiency.data)"
   ]
  },
  {
   "cell_type": "markdown",
   "id": "b8127d4b-1a07-49d2-9eb9-9ceb58e37868",
   "metadata": {},
   "source": [
    "### Step 2: Preprocess the data\n",
    "Split the data into training and test sets **using a 70/30 split and a random state value of 42**. Then scale the data using StandardScaler."
   ]
  },
  {
   "cell_type": "code",
   "execution_count": 4,
   "id": "c2949568",
   "metadata": {
    "tags": []
   },
   "outputs": [],
   "source": [
    "\n",
    "# Assign predictor and outcome variables \n",
    "X = energy_efficiency.data.features\n",
    "Y = heating_load\n",
    "\n",
    "# Split the data\n",
    "X_train, X_test, y_train, y_test = train_test_split(X, Y, test_size = 0.3, random_state = 42)\n",
    "\n",
    "# Standardize the predictors\n",
    "scaler = StandardScaler()\n",
    "X_train_scaled = scaler.fit_transform(X_train)\n",
    "X_test_scaled = scaler.fit_transform(X_test)"
   ]
  },
  {
   "cell_type": "markdown",
   "id": "07d3d1c9-72f4-47ff-abe0-29dca2868185",
   "metadata": {},
   "source": [
    "Note to self: Scale *after* split to prevent leakage. If you were to scale data together, there is some information about test data used in testing process (a source of leakage). Can overestimate how well trained model does on unseen data."
   ]
  },
  {
   "cell_type": "markdown",
   "id": "410fb7ba",
   "metadata": {},
   "source": [
    "### Step 3: Initial model fits\n",
    "We'll start by fitting a simple ordinary least squared regression model for comparison purposes.  Then we'll fit an initial ridge regression model. Let's start by choosing 10 as an arbitrary value for alpha. Recall that we can access coefficients from a model instance with `model_name.coef_`. \n"
   ]
  },
  {
   "cell_type": "code",
   "execution_count": 5,
   "id": "decbe825",
   "metadata": {
    "tags": []
   },
   "outputs": [
    {
     "name": "stdout",
     "output_type": "stream",
     "text": [
      "OLS Coefficients: [-6.68692391 -3.70147238  0.76114173 -3.99242943  7.21681807 -0.02606662\n",
      "  2.6700316   0.35604219]\n",
      "Ridge Coefficients: [-2.47753304 -1.43512945  1.71819798 -2.24012431  6.98517033 -0.02697343\n",
      "  2.64233342  0.3579727 ]\n"
     ]
    }
   ],
   "source": [
    "# Create OLS instance and fit it\n",
    "ols = LinearRegression()\n",
    "ols.fit(X_train_scaled, y_train)\n",
    "\n",
    "# Define a fixed alpha (lambda)\n",
    "alpha_fixed = 10\n",
    "\n",
    "# Create Ridge regression instance and fit it\n",
    "ridge = Ridge(alpha = alpha_fixed)\n",
    "ridge.fit(X_train_scaled, y_train)\n",
    "\n",
    "# Check coefficients of the OLS and ridge models\n",
    "print(\"OLS Coefficients:\", ols.coef_)\n",
    "print(\"Ridge Coefficients:\", ridge.coef_)\n"
   ]
  },
  {
   "cell_type": "markdown",
   "id": "15ec75ba",
   "metadata": {},
   "source": [
    "Is the penalty term doing its job?  How can you tell?"
   ]
  },
  {
   "cell_type": "markdown",
   "id": "22513ce9",
   "metadata": {},
   "source": [
    "Yes, the magnitudes of the coefficients are slightly less for the ridge model than the ols model (but not uniformly)."
   ]
  },
  {
   "cell_type": "markdown",
   "id": "9f77de4b",
   "metadata": {},
   "source": [
    "### Step 4: Evaluate ridge model\n",
    "Now let's use our ridge model to make predictions and evaluate it using MSE. **Be sure to print your results.**"
   ]
  },
  {
   "cell_type": "code",
   "execution_count": 7,
   "id": "23e19926",
   "metadata": {
    "tags": []
   },
   "outputs": [
    {
     "name": "stdout",
     "output_type": "stream",
     "text": [
      "Train MSE (alpha = 10): 8.7248\n",
      "Test MSE (alpha = 10): 9.9576\n"
     ]
    }
   ],
   "source": [
    "# Predictions using ridge model\n",
    "y_train_pred = ridge.predict(X_train_scaled)\n",
    "y_test_pred = ridge.predict(X_test_scaled)\n",
    "\n",
    "# Evaluate MSE\n",
    "mse_train = mean_squared_error(y_train, y_train_pred)\n",
    "mse_test = mean_squared_error(y_test, y_test_pred)\n",
    "\n",
    "print(f\"Train MSE (alpha = {alpha_fixed}): {mse_train:.4f}\")\n",
    "print(f\"Test MSE (alpha = {alpha_fixed}): {mse_test:.4f}\")"
   ]
  },
  {
   "cell_type": "markdown",
   "id": "6ba4ea10-24f9-437b-97d0-67b46d779c77",
   "metadata": {},
   "source": [
    "Note to self: model did better on training data than test data. This is normal, as the model has not seen the test data."
   ]
  },
  {
   "cell_type": "markdown",
   "id": "419c3469",
   "metadata": {},
   "source": [
    "### Step 5: Cross-validation with ridge\n",
    "Now let's move to a more sophisticated version of a ridge regression model using cross-validation using the RidgeCV class.  Let's try models with 0.1, 1.0, and 10.0 as values of alpha. Of the alpha parameter values we try, the model will save the that yielded the best MSE in the `_cv.alpha_` attribute."
   ]
  },
  {
   "cell_type": "code",
   "execution_count": 9,
   "id": "dab3def6",
   "metadata": {
    "tags": []
   },
   "outputs": [
    {
     "name": "stdout",
     "output_type": "stream",
     "text": [
      "Best alpha 1.0\n",
      "Best alpha [0.1, 1.0, 10.0]\n",
      "Test MSE with best alpha: 9.5469\n"
     ]
    }
   ],
   "source": [
    "# Define the three alpha values\n",
    "alphas = [0.1, 1.0, 10.0]\n",
    "\n",
    "# Fit RidgeCV\n",
    "ridge_cv = RidgeCV(alphas = alphas, cv = 10).fit(X_train_scaled, y_train) # cv = 10 means using 10 fold cross validation, running 30 times (10 times each alpha)\n",
    "\n",
    "# Print best alpha\n",
    "print(f\"Best alpha {ridge_cv.alpha_}\")\n",
    "print(f\"Best alpha {ridge_cv.alphas}\")\n",
    "\n",
    "# Evaluate model with the best alpha\n",
    "y_test_pred_cv = ridge_cv.predict(X_test_scaled)\n",
    "mse_test_cv = mean_squared_error(y_test, y_test_pred_cv)\n",
    "print(f\"Test MSE with best alpha: {mse_test_cv:.4f}\")\n"
   ]
  },
  {
   "cell_type": "markdown",
   "id": "43d5e3af-1190-4876-ba10-43567639ba7c",
   "metadata": {},
   "source": [
    "Note to self: Better than 9.9576, alpha 1 is going in the right direction."
   ]
  },
  {
   "cell_type": "markdown",
   "id": "5a545998-596f-4021-83a9-71010807a5dc",
   "metadata": {},
   "source": [
    "### Step 6: Fit ridge models to a large range of alpha values \n",
    "Now we are going to dig a little deeper to see alpha's effect on the model coefficients. Let's define a larger range of alphas to try on a log scale with np.logspace(). Let's use 100 values ranging between -4 and 4.  Then using a for loop, we'll fit a Ridge model for each of those values of alpha, appending each model's coefficients (`coefficients.append()`) as we go."
   ]
  },
  {
   "cell_type": "code",
   "execution_count": 19,
   "id": "de186e4d",
   "metadata": {
    "tags": []
   },
   "outputs": [
    {
     "name": "stdout",
     "output_type": "stream",
     "text": [
      "[[-6.68674872e+00 -3.70135260e+00  7.61170382e-01 -3.99232615e+00\n",
      "   7.21686693e+00 -2.60661979e-02  2.67003207e+00  3.56042386e-01]\n",
      " [-6.68671290e+00 -3.70132811e+00  7.61176240e-01 -3.99230503e+00\n",
      "   7.21687692e+00 -2.60661124e-02  2.67003216e+00  3.56042427e-01]\n",
      " [-6.68666975e+00 -3.70129861e+00  7.61183297e-01 -3.99227960e+00\n",
      "   7.21688895e+00 -2.60660093e-02  2.67003228e+00  3.56042477e-01]\n",
      " [-6.68661778e+00 -3.70126307e+00  7.61191796e-01 -3.99224896e+00\n",
      "   7.21690345e+00 -2.60658853e-02  2.67003242e+00  3.56042537e-01]\n",
      " [-6.68655518e+00 -3.70122027e+00  7.61202034e-01 -3.99221205e+00\n",
      "   7.21692090e+00 -2.60657358e-02  2.67003259e+00  3.56042608e-01]\n",
      " [-6.68647978e+00 -3.70116872e+00  7.61214363e-01 -3.99216760e+00\n",
      "   7.21694193e+00 -2.60655558e-02  2.67003279e+00  3.56042695e-01]\n",
      " [-6.68638897e+00 -3.70110663e+00  7.61229216e-01 -3.99211406e+00\n",
      "   7.21696725e+00 -2.60653390e-02  2.67003303e+00  3.56042799e-01]\n",
      " [-6.68627959e+00 -3.70103185e+00  7.61247104e-01 -3.99204958e+00\n",
      "   7.21699775e+00 -2.60650778e-02  2.67003333e+00  3.56042925e-01]\n",
      " [-6.68614784e+00 -3.70094178e+00  7.61268650e-01 -3.99197192e+00\n",
      "   7.21703449e+00 -2.60647633e-02  2.67003368e+00  3.56043076e-01]\n",
      " [-6.68598916e+00 -3.70083329e+00  7.61294600e-01 -3.99187837e+00\n",
      "   7.21707873e+00 -2.60643845e-02  2.67003411e+00  3.56043258e-01]\n",
      " [-6.68579805e+00 -3.70070263e+00  7.61325855e-01 -3.99176571e+00\n",
      "   7.21713202e+00 -2.60639283e-02  2.67003462e+00  3.56043478e-01]\n",
      " [-6.68556788e+00 -3.70054526e+00  7.61363500e-01 -3.99163003e+00\n",
      "   7.21719619e+00 -2.60633789e-02  2.67003524e+00  3.56043742e-01]\n",
      " [-6.68529066e+00 -3.70035573e+00  7.61408838e-01 -3.99146661e+00\n",
      "   7.21727348e+00 -2.60627172e-02  2.67003598e+00  3.56044060e-01]\n",
      " [-6.68495680e+00 -3.70012748e+00  7.61463443e-01 -3.99126980e+00\n",
      "   7.21736655e+00 -2.60619203e-02  2.67003688e+00  3.56044443e-01]\n",
      " [-6.68455473e+00 -3.69985260e+00  7.61529206e-01 -3.99103279e+00\n",
      "   7.21747863e+00 -2.60609607e-02  2.67003796e+00  3.56044905e-01]\n",
      " [-6.68407052e+00 -3.69952157e+00  7.61608405e-01 -3.99074738e+00\n",
      "   7.21761358e+00 -2.60598052e-02  2.67003926e+00  3.56045460e-01]\n",
      " [-6.68348742e+00 -3.69912294e+00  7.61703783e-01 -3.99040368e+00\n",
      "   7.21777608e+00 -2.60584139e-02  2.67004082e+00  3.56046129e-01]\n",
      " [-6.68278527e+00 -3.69864294e+00  7.61818639e-01 -3.98998982e+00\n",
      "   7.21797174e+00 -2.60567388e-02  2.67004270e+00  3.56046935e-01]\n",
      " [-6.68193982e+00 -3.69806499e+00  7.61956947e-01 -3.98949152e+00\n",
      "   7.21820728e+00 -2.60547221e-02  2.67004497e+00  3.56047905e-01]\n",
      " [-6.68092187e+00 -3.69736915e+00  7.62123484e-01 -3.98889158e+00\n",
      "   7.21849082e+00 -2.60522945e-02  2.67004770e+00  3.56049073e-01]\n",
      " [-6.67969633e+00 -3.69653145e+00  7.62323998e-01 -3.98816935e+00\n",
      "   7.21883209e+00 -2.60493725e-02  2.67005098e+00  3.56050478e-01]\n",
      " [-6.67822104e+00 -3.69552308e+00  7.62565404e-01 -3.98729999e+00\n",
      "   7.21924279e+00 -2.60458561e-02  2.67005493e+00  3.56052170e-01]\n",
      " [-6.67644528e+00 -3.69430942e+00  7.62856010e-01 -3.98625367e+00\n",
      "   7.21973695e+00 -2.60416250e-02  2.67005968e+00  3.56054206e-01]\n",
      " [-6.67430817e+00 -3.69284891e+00  7.63205804e-01 -3.98499457e+00\n",
      "   7.22033140e+00 -2.60365351e-02  2.67006538e+00  3.56056656e-01]\n",
      " [-6.67173663e+00 -3.69109168e+00  7.63626781e-01 -3.98347973e+00\n",
      "   7.22104631e+00 -2.60304138e-02  2.67007225e+00  3.56059603e-01]\n",
      " [-6.66864298e+00 -3.68897791e+00  7.64133342e-01 -3.98165761e+00\n",
      "   7.22190581e+00 -2.60230542e-02  2.67008049e+00  3.56063146e-01]\n",
      " [-6.66492214e+00 -3.68643595e+00  7.64742759e-01 -3.97946650e+00\n",
      "   7.22293876e+00 -2.60142093e-02  2.67009039e+00  3.56067407e-01]\n",
      " [-6.66044829e+00 -3.68338008e+00  7.65475740e-01 -3.97683258e+00\n",
      "   7.22417959e+00 -2.60035840e-02  2.67010227e+00  3.56072526e-01]\n",
      " [-6.65507098e+00 -3.67970782e+00  7.66357077e-01 -3.97366764e+00\n",
      "   7.22566932e+00 -2.59908271e-02  2.67011651e+00  3.56078676e-01]\n",
      " [-6.64861055e+00 -3.67529695e+00  7.67416424e-01 -3.96986648e+00\n",
      "   7.22745666e+00 -2.59755210e-02  2.67013356e+00  3.56086058e-01]\n",
      " [-6.64085285e+00 -3.67000191e+00  7.68689195e-01 -3.96530389e+00\n",
      "   7.22959938e+00 -2.59571707e-02  2.67015397e+00  3.56094915e-01]\n",
      " [-6.63154317e+00 -3.66364979e+00  7.70217610e-01 -3.95983120e+00\n",
      "   7.23216564e+00 -2.59351919e-02  2.67017836e+00  3.56105531e-01]\n",
      " [-6.62037935e+00 -3.65603578e+00  7.72051901e-01 -3.95327243e+00\n",
      "   7.23523562e+00 -2.59088971e-02  2.67020745e+00  3.56118243e-01]\n",
      " [-6.60700407e+00 -3.64691817e+00  7.74251677e-01 -3.94542001e+00\n",
      "   7.23890305e+00 -2.58774824e-02  2.67024208e+00  3.56133449e-01]\n",
      " [-6.59099637e+00 -3.63601282e+00  7.76887468e-01 -3.93603021e+00\n",
      "   7.24327685e+00 -2.58400130e-02  2.67028320e+00  3.56151611e-01]\n",
      " [-6.57186259e+00 -3.62298750e+00  7.80042419e-01 -3.92481836e+00\n",
      "   7.24848257e+00 -2.57954112e-02  2.67033189e+00  3.56173267e-01]\n",
      " [-6.54902707e+00 -3.60745619e+00  7.83814123e-01 -3.91145417e+00\n",
      "   7.25466338e+00 -2.57424464e-02  2.67038934e+00  3.56199037e-01]\n",
      " [-6.52182303e+00 -3.58897376e+00  7.88316537e-01 -3.89555746e+00\n",
      "   7.26198054e+00 -2.56797319e-02  2.67045680e+00  3.56229627e-01]\n",
      " [-6.48948452e+00 -3.56703181e+00  7.93681894e-01 -3.87669504e+00\n",
      "   7.27061261e+00 -2.56057297e-02  2.67053562e+00  3.56265835e-01]\n",
      " [-6.45114050e+00 -3.54105637e+00  8.00062494e-01 -3.85437932e+00\n",
      "   7.28075297e+00 -2.55187710e-02  2.67062708e+00  3.56308543e-01]\n",
      " [-6.40581256e+00 -3.51040886e+00  8.07632181e-01 -3.82806993e+00\n",
      "   7.29260485e+00 -2.54170971e-02  2.67073235e+00  3.56358710e-01]\n",
      " [-6.35241843e+00 -3.47439171e+00  8.16587284e-01 -3.79717974e+00\n",
      "   7.30637281e+00 -2.52989301e-02  2.67085229e+00  3.56417349e-01]\n",
      " [-6.28978341e+00 -3.43226059e+00  8.27146714e-01 -3.76108684e+00\n",
      "   7.32224948e+00 -2.51625827e-02  2.67098717e+00  3.56485491e-01]\n",
      " [-6.21666280e+00 -3.38324542e+00  8.39550885e-01 -3.71915458e+00\n",
      "   7.34039632e+00 -2.50066188e-02  2.67113637e+00  3.56564130e-01]\n",
      " [-6.13177778e+00 -3.32658212e+00  8.54059111e-01 -3.67076136e+00\n",
      "   7.36091703e+00 -2.48300747e-02  2.67129791e+00  3.56654142e-01]\n",
      " [-6.03386711e+00 -3.26155689e+00  8.70945183e-01 -3.61534183e+00\n",
      "   7.38382258e+00 -2.46327497e-02  2.67146778e+00  3.56756179e-01]\n",
      " [-5.92175545e+00 -3.18756366e+00  8.90491000e-01 -3.55244003e+00\n",
      "   7.40898759e+00 -2.44155678e-02  2.67163922e+00  3.56870540e-01]\n",
      " [-5.79443700e+00 -3.10417354e+00  9.12978381e-01 -3.48177332e+00\n",
      "   7.43609882e+00 -2.41810027e-02  2.67180177e+00  3.56997009e-01]\n",
      " [-5.65116943e+00 -3.01121240e+00  9.38679586e-01 -3.40330373e+00\n",
      "   7.46459825e+00 -2.39335429e-02  2.67194019e+00  3.57134685e-01]\n",
      " [-5.49156924e+00 -2.90883962e+00  9.67847579e-01 -3.31731025e+00\n",
      "   7.49362543e+00 -2.36801563e-02  2.67203327e+00  3.57281813e-01]\n",
      " [-5.31569531e+00 -2.79761738e+00  1.00070750e+00 -3.22445256e+00\n",
      "   7.52196595e+00 -2.34306912e-02  2.67205256e+00  3.57435642e-01]\n",
      " [-5.12410445e+00 -2.67855794e+00  1.03745103e+00 -3.12581446e+00\n",
      "   7.54801478e+00 -2.31981381e-02  2.67196119e+00  3.57592336e-01]\n",
      " [-4.91786320e+00 -2.55313556e+00  1.07823530e+00 -3.02291507e+00\n",
      "   7.56976358e+00 -2.29986662e-02  2.67171268e+00  3.57746988e-01]\n",
      " [-4.69850396e+00 -2.42325314e+00  1.12318708e+00 -2.91767820e+00\n",
      "   7.58482050e+00 -2.28513604e-02  2.67124993e+00  3.57893738e-01]\n",
      " [-4.46792281e+00 -2.29115959e+00  1.17241163e+00 -2.81235580e+00\n",
      "   7.59046742e+00 -2.27776053e-02  2.67050431e+00  3.58026042e-01]\n",
      " [-4.22822840e+00 -2.15932293e+00  1.22600408e+00 -2.70940933e+00\n",
      "   7.58375546e+00 -2.28001024e-02  2.66939481e+00  3.58137075e-01]\n",
      " [-3.98156350e+00 -2.03027309e+00  1.28405900e+00 -2.61136053e+00\n",
      "   7.56163466e+00 -2.29415461e-02  2.66782697e+00  3.58220253e-01]\n",
      " [-3.72992976e+00 -1.90643496e+00  1.34667305e+00 -2.52062939e+00\n",
      "   7.52110974e+00 -2.32230173e-02  2.66569156e+00  3.58269852e-01]\n",
      " [-3.47504810e+00 -1.78997420e+00  1.41393536e+00 -2.43937855e+00\n",
      "   7.45941222e+00 -2.36621705e-02  2.66286262e+00  3.58281665e-01]\n",
      " [-3.21828108e+00 -1.68267499e+00  1.48590173e+00 -2.36938111e+00\n",
      "   7.37417890e+00 -2.42712963e-02  2.65919478e+00  3.58253669e-01]\n",
      " [-2.96063160e+00 -1.58586151e+00  1.56255144e+00 -2.31192284e+00\n",
      "   7.26362780e+00 -2.50553403e-02  2.65451974e+00  3.58186638e-01]\n",
      " [-2.70281607e+00 -1.50036625e+00  1.64372881e+00 -2.26774266e+00\n",
      "   7.12672242e+00 -2.60099718e-02  2.64864183e+00  3.58084649e-01]\n",
      " [-2.44539546e+00 -1.42654026e+00  1.72907589e+00 -2.23701002e+00\n",
      "   6.96331373e+00 -2.71198239e-02  2.64133282e+00  3.57955410e-01]\n",
      " [-2.18893616e+00 -1.36429592e+00  1.81796578e+00 -2.21933423e+00\n",
      "   6.77424551e+00 -2.83570770e-02  2.63232626e+00  3.57810294e-01]\n",
      " [-1.93416696e+00 -1.31317115e+00  1.90944838e+00 -2.21380099e+00\n",
      "   6.56140484e+00 -2.96806034e-02  2.62131149e+00  3.57663966e-01]\n",
      " [-1.68209955e+00 -1.27240509e+00  2.00222052e+00 -2.21903189e+00\n",
      "   6.32769857e+00 -3.10359154e-02  2.60792788e+00  3.57533418e-01]\n",
      " [-1.43408714e+00 -1.24101738e+00  2.09462996e+00 -2.23326390e+00\n",
      "   6.07694060e+00 -3.23561260e-02  2.59175986e+00  3.57436253e-01]\n",
      " [-1.19180856e+00 -1.21788568e+00  2.18471747e+00 -2.25444576e+00\n",
      "   5.81364602e+00 -3.35640370e-02  2.57233317e+00  3.57388070e-01]\n",
      " [-9.57180618e-01 -1.20181746e+00  2.27029459e+00 -2.28034600e+00\n",
      "   5.54274373e+00 -3.45753215e-02  2.54911349e+00  3.57398825e-01]\n",
      " [-7.32216345e-01 -1.19161282e+00  2.34904764e+00 -2.30866507e+00\n",
      "   5.26923706e+00 -3.53026146e-02  2.52150818e+00  3.57468121e-01]\n",
      " [-5.18857526e-01 -1.18611575e+00  2.41865357e+00 -2.33714177e+00\n",
      "   4.99785431e+00 -3.56602090e-02  2.48887262e+00  3.57579478e-01]\n",
      " [-3.18813756e-01 -1.18425121e+00  2.47689215e+00 -2.36364419e+00\n",
      "   4.73273507e+00 -3.55690249e-02  2.45052257e+00  3.57693718e-01]\n",
      " [-1.33436190e-01 -1.18504671e+00  2.52174169e+00 -2.38623732e+00\n",
      "   4.47719153e+00 -3.49615812e-02  2.40575411e+00  3.57741788e-01]\n",
      " [ 3.63555790e-02 -1.18763795e+00  2.55145146e+00 -2.40322379e+00\n",
      "   4.23356858e+00 -3.37867974e-02  2.35387304e+00  3.57617592e-01]\n",
      " [ 1.90087564e-01 -1.19125964e+00  2.56459082e+00 -2.41315887e+00\n",
      "   4.00320814e+00 -3.20145530e-02  2.29423449e+00  3.57171728e-01]\n",
      " [ 3.27691810e-01 -1.19522422e+00  2.56008135e+00 -2.41484517e+00\n",
      "   3.78650633e+00 -2.96399283e-02  2.22629330e+00  3.56207524e-01]\n",
      " [ 4.49426664e-01 -1.19889183e+00  2.53722067e+00 -2.40731489e+00\n",
      "   3.58304128e+00 -2.66869329e-02  2.14966346e+00  3.54481156e-01]\n",
      " [ 5.55774115e-01 -1.20163620e+00  2.49570673e+00 -2.38980826e+00\n",
      "   3.39174504e+00 -2.32112936e-02  2.06418295e+00  3.51707973e-01]\n",
      " [ 6.47331582e-01 -1.20281137e+00  2.43566759e+00 -2.36175545e+00\n",
      "   3.21109486e+00 -1.93015966e-02  1.96997779e+00  3.47576908e-01]\n",
      " [ 7.24713449e-01 -1.20172465e+00  2.35769598e+00 -2.32276689e+00\n",
      "   3.03930392e+00 -1.50778894e-02  1.86751633e+00  3.41774035e-01]\n",
      " [ 7.88474504e-01 -1.19762159e+00  2.26288165e+00 -2.27263435e+00\n",
      "   2.87449766e+00 -1.06868888e-02  1.75764353e+00  3.34014541e-01]\n",
      " [ 8.39064020e-01 -1.18968842e+00  2.15282965e+00 -2.21134216e+00\n",
      "   2.71486753e+00 -6.29333536e-03  1.64158545e+00  3.24079999e-01]\n",
      " [ 8.76815591e-01 -1.17707632e+00  2.02964995e+00 -2.13908597e+00\n",
      "   2.55879777e+00 -2.06778143e-03  1.52091658e+00  3.11855332e-01]\n",
      " [ 9.01973738e-01 -1.15894959e+00  1.89590602e+00 -2.05629482e+00\n",
      "   2.40496391e+00  1.82793466e-03  1.39748835e+00  2.97358252e-01]\n",
      " [ 9.14753478e-01 -1.13455572e+00  1.75451614e+00 -1.96365177e+00\n",
      "   2.25240298e+00  5.25541355e-03  1.27332365e+00  2.80754114e-01]\n",
      " [ 9.15423776e-01 -1.10331083e+00  1.60861078e+00 -1.86210809e+00\n",
      "   2.10055599e+00  8.11209141e-03  1.15048912e+00  2.62351497e-01]\n",
      " [ 9.04400741e-01 -1.06488859e+00  1.46135964e+00 -1.75288617e+00\n",
      "   1.94928348e+00  1.03390665e-02  1.03096173e+00  2.42577945e-01]\n",
      " [ 8.82333127e-01 -1.01929740e+00  1.31579013e+00 -1.63746675e+00\n",
      "   1.79885442e+00  1.19230723e-02  9.16507417e-01  2.21939860e-01]\n",
      " [ 8.50162317e-01 -9.66929920e-01  1.17462153e+00 -1.51755671e+00\n",
      "   1.64990851e+00  1.28926338e-02  8.08586791e-01  2.00974038e-01]\n",
      " [ 8.09142542e-01 -9.08571904e-01  1.04013603e+00 -1.39503506e+00\n",
      "   1.50339272e+00  1.33096707e-02  7.08297510e-01  1.80199604e-01]\n",
      " [ 7.60814220e-01 -8.45364453e-01  9.14100095e-01 -1.27187765e+00\n",
      "   1.36047453e+00  1.32585575e-02  6.16355521e-01  1.60077926e-01]\n",
      " [ 7.06932650e-01 -7.78722308e-01  7.97739139e-01 -1.15006496e+00\n",
      "   1.22243769e+00  1.28347679e-02  5.33111174e-01  1.40985279e-01]\n",
      " [ 6.49363377e-01 -7.10219949e-01  6.91759861e-01 -1.03148151e+00\n",
      "   1.09056985e+00  1.21348230e-02  4.58591679e-01  1.23199621e-01]\n",
      " [ 5.89961940e-01 -6.41463303e-01  5.96408351e-01 -9.17818518e-01\n",
      "   9.66054217e-01  1.12485836e-02  3.92559598e-01  1.06900031e-01]\n",
      " [ 5.30457699e-01 -5.73966761e-01  5.11549839e-01 -8.10492406e-01\n",
      "   8.49877611e-01  1.02542374e-02  3.34577527e-01  9.21756268e-02]\n",
      " [ 4.72358752e-01 -5.09052481e-01  4.36756785e-01 -7.10589065e-01\n",
      "   7.42765248e-01  9.21579938e-03  2.84071076e-01  7.90402240e-02]\n",
      " [ 4.16888840e-01 -4.47782721e-01  3.71394835e-01 -6.18839459e-01\n",
      "   6.45147435e-01  8.18263614e-03  2.40384857e-01  6.74493625e-02]\n",
      " [ 3.64959680e-01 -3.90928533e-01  3.14699630e-01 -5.35626346e-01\n",
      "   5.57158065e-01  7.19041070e-03  2.02828680e-01  5.73171213e-02]\n",
      " [ 3.17175554e-01 -3.38971457e-01  2.65840746e-01 -4.61017042e-01\n",
      "   4.78659812e-01  6.26287304e-03  1.70713147e-01  4.85310945e-02]\n",
      " [ 2.73862593e-01 -2.92130488e-01  2.23971650e-01 -3.94814101e-01\n",
      "   4.09287929e-01  5.41402460e-03  1.43375215e-01  4.09647186e-02]]\n"
     ]
    }
   ],
   "source": [
    "# Define alphas for ridge regression.  Initialize an empty list to hold our coefficients\n",
    "alphas = np.logspace(-4, 4, 100)  # Alphas from 0.0001 to 10,000\n",
    "coefficients = []\n",
    "\n",
    "# Fit a ridge model for each alpha and collect coefficients\n",
    "for alpha in alphas:\n",
    "    ridge = Ridge(alpha = alpha).fit(X_train_scaled, y_train)\n",
    "    coefficients.append(ridge.coef_)\n",
    "\n",
    "#coefficients = np.array(coefficients)\n",
    "print(coefficients)"
   ]
  },
  {
   "cell_type": "markdown",
   "id": "7baeb272-efe1-40bb-939c-ff6eb0e8c234",
   "metadata": {},
   "source": [
    "Note to self: Equally spacing values between log -4 and log 4."
   ]
  },
  {
   "cell_type": "markdown",
   "id": "2f4209c1",
   "metadata": {},
   "source": [
    "### Step 7: Plot ridge coefficients vs. lambda"
   ]
  },
  {
   "cell_type": "code",
   "execution_count": 20,
   "id": "9f286aa4",
   "metadata": {
    "tags": []
   },
   "outputs": [
    {
     "data": {
      "text/plain": [
       "[<matplotlib.lines.Line2D at 0x7ff390b496c0>,\n",
       " <matplotlib.lines.Line2D at 0x7ff390b496f0>,\n",
       " <matplotlib.lines.Line2D at 0x7ff390b497e0>,\n",
       " <matplotlib.lines.Line2D at 0x7ff390b498d0>,\n",
       " <matplotlib.lines.Line2D at 0x7ff390b499c0>,\n",
       " <matplotlib.lines.Line2D at 0x7ff390b49ab0>,\n",
       " <matplotlib.lines.Line2D at 0x7ff390b49ba0>,\n",
       " <matplotlib.lines.Line2D at 0x7ff390b49c90>]"
      ]
     },
     "execution_count": 20,
     "metadata": {},
     "output_type": "execute_result"
    },
    {
     "data": {
      "image/png": "[encoded data removed]",
      "text/plain": [
       "<Figure size 640x480 with 1 Axes>"
      ]
     },
     "metadata": {},
     "output_type": "display_data"
    }
   ],
   "source": [
    "\n",
    "# Plot coefficients vs. alpha. Another for loop may be in order\n",
    "plt.plot(alphas, coefficients)\n",
    "\n",
    "#MAKE PRETTY"
   ]
  },
  {
   "cell_type": "markdown",
   "id": "fb7d6b08",
   "metadata": {},
   "source": [
    "### Step 8: Run a full cross-validated ridge model using RidgeCV"
   ]
  },
  {
   "cell_type": "code",
   "execution_count": 24,
   "id": "dd16f9a2",
   "metadata": {
    "tags": []
   },
   "outputs": [
    {
     "name": "stdout",
     "output_type": "stream",
     "text": [
      "Best alpha: 0.5214\n",
      "Coefficients for best alpha: [-5.92175545 -3.18756366  0.890491   -3.55244003  7.40898759 -0.02441557\n",
      "  2.67163922  0.35687054]\n",
      "9.526684864663936\n"
     ]
    }
   ],
   "source": [
    "# Fit a RidgeCV with cross-validation\n",
    "ridge_cv = RidgeCV(alphas = alphas, cv = 10).fit(X_train_scaled, y_train) \n",
    "\n",
    "# Print the optimal alpha and coefficients corresponding to that alpha\n",
    "print(f\"Best alpha: {ridge_cv.alpha_:.4f}\")\n",
    "print(f\"Coefficients for best alpha: {ridge_cv.coef_}\")\n",
    "\n",
    "# Evaluate the model on the test set by predicting..\n",
    "y_test_pred = ridge_cv.predict(X_test_scaled)\n",
    "\n",
    "# ... and printing the MSE\n",
    "mse = mean_squared_error(y_test, y_test_pred)\n",
    "print(mse)"
   ]
  },
  {
   "cell_type": "markdown",
   "id": "ae2d8b18-e8ed-4b95-8cd3-afc3dc83f456",
   "metadata": {},
   "source": [
    "### Step 9: Fit lasso regression using LassoCV"
   ]
  },
  {
   "cell_type": "code",
   "execution_count": null,
   "id": "447a5a2e-1995-4f8c-9d5d-10f72c1d2f45",
   "metadata": {
    "tags": []
   },
   "outputs": [],
   "source": [
    "# Fit lasso regression with cross-validation\n",
    "lasso_cv = \n",
    "\n",
    "# Print the optimal alpha and associated coefficients\n",
    "\n"
   ]
  },
  {
   "cell_type": "markdown",
   "id": "9a4691e6-47ae-44ca-8446-9d950c1ea441",
   "metadata": {},
   "source": [
    "### Step 10: The \"one-standard error\" rule \n",
    "We can use 1-SE rule to trade off a small amount of accuracy for increased model simplicity and interpretability.  To do so, find the highest penalty value that falls within 1 standard error of the minimum MSE.  Hopefully it will reduce the number of features in the model."
   ]
  },
  {
   "cell_type": "code",
   "execution_count": null,
   "id": "0a0c8a3f-40f1-41bd-b535-6a523f93672a",
   "metadata": {
    "tags": []
   },
   "outputs": [],
   "source": [
    "# Think: what is this code doing?\n",
    "lasso_best_alpha_1se = lasso_cv.alphas_[np.where(\n",
    "    lasso_cv.mse_path_.mean(axis=1) <= (lasso_cv.mse_path_.mean(axis=1).min() + lasso_cv.mse_path_.std(axis=1).mean())\n",
    ")[0][0]]\n",
    "\n",
    "# Fit a Lasso with this new alpha\n",
    "lasso_1se_model = \n",
    "\n",
    "# Identify remaining features for 1-SE rule (those with non-zero coefficients)\n",
    "remaining_features_1se = \n",
    "print(remaining_features_1se)"
   ]
  },
  {
   "cell_type": "markdown",
   "id": "9975e6f2-ae06-421c-a872-5fc08fc38573",
   "metadata": {},
   "source": [
    "### Step 11: Compare the performance of your ridge and lasso regression models.\n"
   ]
  },
  {
   "cell_type": "markdown",
   "id": "bc65f94f",
   "metadata": {},
   "source": [
    "*Your answer here.*"
   ]
  }
 ],
 "metadata": {
  "kernelspec": {
   "display_name": "Anaconda 3 (EDS232)",
   "language": "python",
   "name": "ml-env"
  },
  "language_info": {
   "codemirror_mode": {
    "name": "ipython",
    "version": 3
   },
   "file_extension": ".py",
   "mimetype": "text/x-python",
   "name": "python",
   "nbconvert_exporter": "python",
   "pygments_lexer": "ipython3",
   "version": "3.10.16"
  }
 },
 "nbformat": 4,
 "nbformat_minor": 5
}
